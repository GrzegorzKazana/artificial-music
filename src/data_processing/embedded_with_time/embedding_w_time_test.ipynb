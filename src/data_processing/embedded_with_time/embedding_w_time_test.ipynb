{
 "cells": [
  {
   "cell_type": "code",
   "execution_count": null,
   "metadata": {},
   "outputs": [],
   "source": [
    "import os\n",
    "import sys\n",
    "import numpy as np\n",
    "\n",
    "proj_base_path = '../../../'\n",
    "sys.path.append(os.path.join(os.getcwd(), proj_base_path))"
   ]
  },
  {
   "cell_type": "code",
   "execution_count": null,
   "metadata": {},
   "outputs": [],
   "source": [
    "import mido\n",
    "import json\n",
    "from gensim.models import KeyedVectors\n",
    "from src.data_processing.embedded_with_time.embed_in_time import mid2np\n",
    "from src.data_processing.embedded_with_time.unembed_in_time import np2mid"
   ]
  },
  {
   "cell_type": "code",
   "execution_count": null,
   "metadata": {},
   "outputs": [],
   "source": [
    "m = mido.MidiFile(os.path.join(proj_base_path,'datasets/midi/pokemon/Pokemon_BlackWhite_-_An_Unwavering_Heart.mid'))\n",
    "wv = KeyedVectors.load(os.path.join(proj_base_path,'datasets/numpy/pokemon_embedded_w_time/just_sparse/meta/_word_vectors_10000_ignore_ratio=0.05.wv'), mmap='r')\n",
    "with open(os.path.join(proj_base_path,'datasets/numpy/pokemon_embedded_w_time/just_sparse/meta/_embedding_dict_ignore_ratio=0.05.json')) as f:\n",
    "    embedding_dict = json.load(f)\n",
    "    \n",
    "# m = list([n for n in m if n.is_meta or n.channel == 1])#[:26]\n",
    "def since_pred(p, data):\n",
    "    res = []\n",
    "    for d in data:\n",
    "        if not d.is_meta and (p(d) or len(res)) > 0:\n",
    "            res.append(d)\n",
    "    return res\n",
    "\n",
    "# m = since_pred(lambda d: not d.is_meta and d.type == 'note_on' and d.note == 52, [a for a in m])"
   ]
  },
  {
   "cell_type": "code",
   "execution_count": null,
   "metadata": {},
   "outputs": [],
   "source": [
    "for msg in [m1 for m1 in m]: print(msg)"
   ]
  },
  {
   "cell_type": "code",
   "execution_count": null,
   "metadata": {},
   "outputs": [],
   "source": [
    "res = mid2np(m, wv, embedding_dict)\n",
    "# res.shape\n",
    "for x in res: print(np.around(x[-2:], decimals=2))"
   ]
  }
 ],
 "metadata": {
  "kernelspec": {
   "display_name": "Python 3",
   "language": "python",
   "name": "python3"
  },
  "language_info": {
   "codemirror_mode": {
    "name": "ipython",
    "version": 3
   },
   "file_extension": ".py",
   "mimetype": "text/x-python",
   "name": "python",
   "nbconvert_exporter": "python",
   "pygments_lexer": "ipython3",
   "version": "3.7.4"
  }
 },
 "nbformat": 4,
 "nbformat_minor": 2
}
