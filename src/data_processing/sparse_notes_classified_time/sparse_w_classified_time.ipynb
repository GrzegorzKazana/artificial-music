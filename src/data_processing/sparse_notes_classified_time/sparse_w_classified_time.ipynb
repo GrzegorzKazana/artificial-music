{
 "cells": [
  {
   "cell_type": "code",
   "execution_count": 1,
   "metadata": {},
   "outputs": [],
   "source": [
    "from mido import MidiFile\n",
    "import numpy as np\n",
    "import matplotlib.pyplot as plt\n",
    "import os\n",
    "import sys\n",
    "import numpy as np\n",
    "\n",
    "proj_base_path = '../../../'\n",
    "sys.path.append(os.path.join(os.getcwd(), proj_base_path))\n",
    "\n",
    "dataset_path = os.path.join(proj_base_path, 'datasets')\n",
    "\n",
    "from src.data_processing.sparse_notes_classified_time.mid2np import mid2np, remove_subsequents_and_count_note_ticks "
   ]
  },
  {
   "cell_type": "code",
   "execution_count": 2,
   "metadata": {},
   "outputs": [
    {
     "name": "stdout",
     "output_type": "stream",
     "text": [
      "<midi file '../../../datasets/midi/pokemon/Pokemon_-_Pallet_Town.mid' type 0, 1 tracks, 1366 messages>\n",
      "<midi file '../../../datasets/midi/pokemon/Pokemon_GoldSilverCrystal_-_Indigo_Plateau.mid' type 0, 1 tracks, 1276 messages>\n",
      "<midi file '../../../datasets/midi/pokemon/Pokemon_RubySapphireEmerald_-_Littleroot_Town.mid' type 0, 1 tracks, 1123 messages>\n",
      "<midi file '../../../datasets/midi/pokemon/Pokemon_RubySapphireEmerald_-_Route_104.mid' type 0, 1 tracks, 583 messages>\n",
      "<midi file '../../../datasets/midi/pokemon/Pokemon_DiamondPearlPlatinum_-_Torn_WorldDistortion_World.mid' type 0, 1 tracks, 1294 messages>\n",
      "<midi file '../../../datasets/midi/pokemon/Pokemon_RubySapphireEmerald_-_Slateport_City.mid' type 0, 1 tracks, 2449 messages>\n",
      "<midi file '../../../datasets/midi/pokemon/pokemon3.mid' type 0, 1 tracks, 1015 messages>\n",
      "<midi file '../../../datasets/midi/pokemon/Pokemon_BlackWhite_-_An_Unwavering_Heart.mid' type 0, 1 tracks, 1055 messages>\n",
      "<midi file '../../../datasets/midi/pokemon/Pokemon_DiamondPearlPlatinum_-_Villa__Twinleaf_Music_Box.mid' type 0, 1 tracks, 475 messages>\n",
      "<midi file '../../../datasets/midi/pokemon/Pokemon_RedBlueYellow_-_Route_12.mid' type 0, 1 tracks, 771 messages>\n"
     ]
    }
   ],
   "source": [
    "mids_dir = os.path.join(dataset_path, 'midi/pokemon/')\n",
    "\n",
    "mid_paths = [os.path.join(mids_dir, p) for p in os.listdir(mids_dir)]\n",
    "mids = [MidiFile(p) for p in mid_paths]\n",
    "for m in mids: print(m)"
   ]
  },
  {
   "cell_type": "code",
   "execution_count": 3,
   "metadata": {},
   "outputs": [
    {
     "name": "stdout",
     "output_type": "stream",
     "text": [
      "finished: <midi file '../../../datasets/midi/pokemon/Pokemon_-_Pallet_Town.mid' type 0, 1 tracks, 1366 messages>\n",
      "finished: <midi file '../../../datasets/midi/pokemon/Pokemon_GoldSilverCrystal_-_Indigo_Plateau.mid' type 0, 1 tracks, 1276 messages>\n",
      "finished: <midi file '../../../datasets/midi/pokemon/Pokemon_RubySapphireEmerald_-_Littleroot_Town.mid' type 0, 1 tracks, 1123 messages>\n",
      "finished: <midi file '../../../datasets/midi/pokemon/Pokemon_RubySapphireEmerald_-_Route_104.mid' type 0, 1 tracks, 583 messages>\n",
      "finished: <midi file '../../../datasets/midi/pokemon/Pokemon_DiamondPearlPlatinum_-_Torn_WorldDistortion_World.mid' type 0, 1 tracks, 1294 messages>\n",
      "finished: <midi file '../../../datasets/midi/pokemon/Pokemon_RubySapphireEmerald_-_Slateport_City.mid' type 0, 1 tracks, 2449 messages>\n",
      "finished: <midi file '../../../datasets/midi/pokemon/pokemon3.mid' type 0, 1 tracks, 1015 messages>\n",
      "finished: <midi file '../../../datasets/midi/pokemon/Pokemon_BlackWhite_-_An_Unwavering_Heart.mid' type 0, 1 tracks, 1055 messages>\n",
      "finished: <midi file '../../../datasets/midi/pokemon/Pokemon_DiamondPearlPlatinum_-_Villa__Twinleaf_Music_Box.mid' type 0, 1 tracks, 475 messages>\n",
      "finished: <midi file '../../../datasets/midi/pokemon/Pokemon_RedBlueYellow_-_Route_12.mid' type 0, 1 tracks, 771 messages>\n",
      "917 1.98\n",
      "487 1.01\n",
      "551 0.5\n",
      "228 2.26\n",
      "343 11.01\n",
      "1002 3.99\n",
      "317 2.0\n",
      "389 3.99\n",
      "121 3.48\n",
      "253 2.97\n"
     ]
    },
    {
     "data": {
      "text/plain": [
       "(4608,)"
      ]
     },
     "execution_count": 3,
     "metadata": {},
     "output_type": "execute_result"
    }
   ],
   "source": [
    "# durations = [mid2np(m)[1] for m in mids]\n",
    "durations = []\n",
    "for m in mids:\n",
    "    durations.append(mid2np(m)[1])\n",
    "    print(f'finished: {m}')\n",
    "\n",
    "for d in durations: print(d.size, d.max())\n",
    "durations = np.concatenate(durations)\n",
    "durations.shape"
   ]
  },
  {
   "cell_type": "code",
   "execution_count": 4,
   "metadata": {},
   "outputs": [
    {
     "data": {
      "text/plain": [
       "(0.01, 11.01)"
      ]
     },
     "execution_count": 4,
     "metadata": {},
     "output_type": "execute_result"
    }
   ],
   "source": [
    "durations.min(), durations.max()"
   ]
  },
  {
   "cell_type": "code",
   "execution_count": 5,
   "metadata": {},
   "outputs": [
    {
     "data": {
      "image/png": "[encoded data removed]",
      "text/plain": [
       "<Figure size 432x288 with 1 Axes>"
      ]
     },
     "metadata": {
      "needs_background": "light"
     },
     "output_type": "display_data"
    }
   ],
   "source": [
    "import matplotlib.pyplot as plt\n",
    "\n",
    "plt.hist(durations, bins=1000, range=(0, 4), log=True)\n",
    "plt.show()"
   ]
  },
  {
   "cell_type": "code",
   "execution_count": 6,
   "metadata": {},
   "outputs": [],
   "source": [
    "from sklearn.cluster import DBSCAN, KMeans\n",
    "\n",
    "# db = DBSCAN(eps=0.03).fit(durations.reshape(-1, 1))\n",
    "db = KMeans(n_clusters=24).fit(durations.reshape(-1, 1))"
   ]
  },
  {
   "cell_type": "code",
   "execution_count": 7,
   "metadata": {},
   "outputs": [
    {
     "name": "stdout",
     "output_type": "stream",
     "text": [
      "[ 0  1  2  3  4  5  6  7  8  9 10 11 12 13 14 15 16 17 18 19 20 21 22 23]\n",
      "label: 0    count:  225, min:    0.18, max:    0.31, avg:    0.23, std:    0.02, med:    0.23\n",
      "label: 1    count:   93, min:    1.92, max:    2.02, avg:    1.99, std:    0.02, med:    1.98\n",
      "label: 2    count:    3, min:    8.98, max:    8.99, avg:    8.99, std:    0.00, med:    8.99\n",
      "label: 3    count:  164, min:    0.99, max:    1.02, avg:    1.00, std:    0.01, med:    0.99\n",
      "label: 4    count:    3, min:    4.49, max:    4.53, avg:    4.52, std:    0.02, med:    4.53\n",
      "label: 5    count:  726, min:    0.45, max:    0.48, avg:    0.47, std:    0.01, med:    0.47\n",
      "label: 6    count: 2023, min:    0.01, max:    0.05, avg:    0.02, std:    0.01, med:    0.02\n",
      "label: 7    count:   15, min:    2.97, max:    3.01, avg:    2.99, std:    0.02, med:    3.00\n",
      "label: 8    count:    2, min:    6.97, max:    6.97, avg:    6.97, std:    0.00, med:    6.97\n",
      "label: 9    count:   70, min:    1.46, max:    1.52, avg:    1.48, std:    0.01, med:    1.48\n",
      "label: 10   count:    1, min:   11.01, max:   11.01, avg:   11.01, std:    0.00, med:   11.01\n",
      "label: 11   count:   16, min:    3.98, max:    4.01, avg:    4.00, std:    0.01, med:    4.00\n",
      "label: 12   count:    3, min:    5.98, max:    6.02, avg:    5.99, std:    0.02, med:    5.98\n",
      "label: 13   count:   28, min:    0.71, max:    0.83, avg:    0.76, std:    0.03, med:    0.75\n",
      "label: 14   count:    7, min:    4.98, max:    5.03, avg:    5.01, std:    0.02, med:    5.02\n",
      "label: 15   count:    8, min:    2.26, max:    2.55, avg:    2.49, std:    0.09, med:    2.52\n",
      "label: 16   count:  275, min:    0.88, max:    0.98, avg:    0.96, std:    0.02, med:    0.98\n",
      "label: 17   count:    1, min:    7.99, max:    7.99, avg:    7.99, std:    0.00, med:    7.99\n",
      "label: 18   count:  181, min:    0.06, max:    0.16, avg:    0.09, std:    0.02, med:    0.09\n",
      "label: 19   count:  177, min:    0.36, max:    0.44, avg:    0.42, std:    0.02, med:    0.43\n",
      "label: 20   count:    1, min:    3.48, max:    3.48, avg:    3.48, std:    0.00, med:    3.48\n",
      "label: 21   count:   17, min:    1.68, max:    1.86, avg:    1.83, std:    0.06, med:    1.85\n",
      "label: 22   count:  561, min:    0.49, max:    0.62, avg:    0.50, std:    0.02, med:    0.50\n",
      "label: 23   count:    8, min:    1.24, max:    1.36, avg:    1.32, std:    0.05, med:    1.33\n"
     ]
    },
    {
     "data": {
      "image/png": "[encoded data removed]",
      "text/plain": [
       "<Figure size 432x288 with 1 Axes>"
      ]
     },
     "metadata": {
      "needs_background": "light"
     },
     "output_type": "display_data"
    }
   ],
   "source": [
    "print(np.unique(db.labels_))\n",
    "\n",
    "for label in np.unique(db.labels_):\n",
    "    X = durations[db.labels_ == label]\n",
    "    Y = np.zeros_like(X)\n",
    "    \n",
    "    print(f'label: {label: <4} count: {X.size: >4}, min: {X.min():7.2f}, max: {X.max():7.2f}, avg: {X.mean():7.2f}, std: {X.std():7.2f}, med: {np.median(X):7.2f}')\n",
    "    \n",
    "    plt.scatter(X, Y)\n",
    "    \n",
    "plt.show()"
   ]
  },
  {
   "cell_type": "code",
   "execution_count": 28,
   "metadata": {},
   "outputs": [
    {
     "data": {
      "image/png": "[encoded data removed]",
      "text/plain": [
       "<Figure size 720x360 with 1 Axes>"
      ]
     },
     "metadata": {
      "needs_background": "light"
     },
     "output_type": "display_data"
    }
   ],
   "source": [
    "# fig, axs = plt.subplots(nrows=1, ncols=2, sharex=True, figsize=(15, 5))\n",
    "plt.figure(figsize=(10, 5))\n",
    "\n",
    "plt.ylabel('liczba przypadków', fontsize=16)\n",
    "plt.xlabel('względna długość trwania dźwięku', fontsize=16)\n",
    "   \n",
    "for X in sorted([durations[db.labels_ == label] for label in np.unique(db.labels_)], key=lambda x: x.mean()):\n",
    "    plt.hist(X, bins=1000, range=(0, 4), log=True)\n",
    "\n",
    "plt.show()"
   ]
  },
  {
   "cell_type": "code",
   "execution_count": 17,
   "metadata": {},
   "outputs": [
    {
     "data": {
      "image/png": "[encoded data removed]",
      "text/plain": [
       "<Figure size 1080x360 with 2 Axes>"
      ]
     },
     "metadata": {
      "needs_background": "light"
     },
     "output_type": "display_data"
    }
   ],
   "source": [
    "# Now switch to a more OO interface to exercise more features.\n",
    "fig, axs = plt.subplots(nrows=1, ncols=2, sharex=True, figsize=(15, 5))\n",
    "ax = axs[0]\n",
    "ax.hist(durations, bins=1000, range=(0, 4), log=True)\n",
    "ax.set_ylabel('liczba przypadków')\n",
    "ax.set_xlabel('względna długość trwania dźwięku')\n",
    "# ax.set_title('all errorbars')\n",
    "\n",
    "ax = axs[1]\n",
    "for X in sorted([durations[db.labels_ == label] for label in np.unique(db.labels_)], key=lambda x: x.mean()):\n",
    "    ax.hist(X, bins=1000, range=(0, 4), log=True)\n",
    "ax.set_xlabel('względna długość trwania dźwięku')\n",
    "\n",
    "\n",
    "plt.show()"
   ]
  },
  {
   "cell_type": "code",
   "execution_count": 24,
   "metadata": {},
   "outputs": [
    {
     "data": {
      "text/plain": [
       "array([20,  2, 20, ...,  2, 20, 17], dtype=int32)"
      ]
     },
     "execution_count": 24,
     "metadata": {},
     "output_type": "execute_result"
    }
   ],
   "source": [
    "db.predict(durations.reshape(-1, 1))"
   ]
  }
 ],
 "metadata": {
  "kernelspec": {
   "display_name": "Python 3",
   "language": "python",
   "name": "python3"
  },
  "language_info": {
   "codemirror_mode": {
    "name": "ipython",
    "version": 3
   },
   "file_extension": ".py",
   "mimetype": "text/x-python",
   "name": "python",
   "nbconvert_exporter": "python",
   "pygments_lexer": "ipython3",
   "version": "3.7.4"
  }
 },
 "nbformat": 4,
 "nbformat_minor": 2
}
