{
 "cells": [
  {
   "cell_type": "code",
   "execution_count": 1,
   "metadata": {},
   "outputs": [],
   "source": [
    "from mido import MidiFile\n",
    "import numpy as np\n",
    "import matplotlib.pyplot as plt\n",
    "import os\n",
    "import sys\n",
    "import numpy as np\n",
    "\n",
    "proj_base_path = '../../../'\n",
    "sys.path.append(os.path.join(os.getcwd(), proj_base_path))\n",
    "\n",
    "dataset_path = os.path.join(proj_base_path, 'datasets')\n",
    "\n",
    "from src.data_processing.sparse_notes_classified_time.mid2np import mid2np, remove_subsequents_and_count_note_ticks "
   ]
  },
  {
   "cell_type": "code",
   "execution_count": 2,
   "metadata": {},
   "outputs": [
    {
     "name": "stdout",
     "output_type": "stream",
     "text": [
      "<midi file '../../../datasets/midi/beethoven/waldstein_1.mid' type 1, 8 tracks, 20950 messages>\n",
      "<midi file '../../../datasets/midi/beethoven/beethoven_opus90_2.mid' type 1, 17 tracks, 10106 messages>\n",
      "<midi file '../../../datasets/midi/beethoven/waldstein_2.mid' type 1, 8 tracks, 1250 messages>\n",
      "<midi file '../../../datasets/midi/beethoven/beethoven_opus90_1.mid' type 1, 17 tracks, 6320 messages>\n",
      "<midi file '../../../datasets/midi/beethoven/waldstein_3.mid' type 1, 9 tracks, 19361 messages>\n",
      "<midi file '../../../datasets/midi/beethoven/beethoven_opus10_2.mid' type 1, 17 tracks, 4187 messages>\n",
      "<midi file '../../../datasets/midi/beethoven/beethoven_opus10_3.mid' type 1, 17 tracks, 7154 messages>\n",
      "<midi file '../../../datasets/midi/beethoven/elise.mid' type 1, 8 tracks, 3192 messages>\n",
      "<midi file '../../../datasets/midi/beethoven/beethoven_opus10_1.mid' type 1, 17 tracks, 8237 messages>\n",
      "<midi file '../../../datasets/midi/beethoven/appass_2.mid' type 1, 11 tracks, 5418 messages>\n",
      "<midi file '../../../datasets/midi/beethoven/appass_3.mid' type 1, 11 tracks, 18129 messages>\n",
      "<midi file '../../../datasets/midi/beethoven/appass_1.mid' type 1, 11 tracks, 17474 messages>\n",
      "<midi file '../../../datasets/midi/beethoven/beethoven_les_adieux_3.mid' type 1, 17 tracks, 12759 messages>\n",
      "<midi file '../../../datasets/midi/beethoven/pathetique_1.mid' type 1, 9 tracks, 14246 messages>\n",
      "<midi file '../../../datasets/midi/beethoven/mond_1.mid' type 1, 9 tracks, 3363 messages>\n",
      "<midi file '../../../datasets/midi/beethoven/beethoven_les_adieux_2.mid' type 1, 17 tracks, 2325 messages>\n",
      "<midi file '../../../datasets/midi/beethoven/mond_3.mid' type 1, 8 tracks, 15166 messages>\n",
      "<midi file '../../../datasets/midi/beethoven/pathetique_2.mid' type 1, 10 tracks, 4038 messages>\n",
      "<midi file '../../../datasets/midi/beethoven/pathetique_3.mid' type 1, 9 tracks, 6389 messages>\n",
      "<midi file '../../../datasets/midi/beethoven/mond_2.mid' type 1, 7 tracks, 2316 messages>\n",
      "<midi file '../../../datasets/midi/beethoven/beethoven_les_adieux_1.mid' type 1, 17 tracks, 8721 messages>\n",
      "<midi file '../../../datasets/midi/beethoven/beethoven_opus22_1.mid' type 1, 17 tracks, 13624 messages>\n",
      "<midi file '../../../datasets/midi/beethoven/beethoven_opus22_2.mid' type 1, 17 tracks, 5521 messages>\n",
      "<midi file '../../../datasets/midi/beethoven/beethoven_hammerklavier_4.mid' type 1, 17 tracks, 21137 messages>\n",
      "<midi file '../../../datasets/midi/beethoven/beethoven_opus22_3.mid' type 1, 17 tracks, 4819 messages>\n",
      "<midi file '../../../datasets/midi/beethoven/beethoven_hammerklavier_1.mid' type 1, 17 tracks, 20535 messages>\n",
      "<midi file '../../../datasets/midi/beethoven/beethoven_opus22_4.mid' type 1, 17 tracks, 8459 messages>\n",
      "<midi file '../../../datasets/midi/beethoven/beethoven_hammerklavier_3.mid' type 1, 17 tracks, 12870 messages>\n",
      "<midi file '../../../datasets/midi/beethoven/beethoven_hammerklavier_2.mid' type 1, 17 tracks, 4906 messages>\n"
     ]
    }
   ],
   "source": [
    "mids_dir = os.path.join(dataset_path, 'midi/beethoven/')\n",
    "\n",
    "mid_paths = [os.path.join(mids_dir, p) for p in os.listdir(mids_dir)]\n",
    "mids = [MidiFile(p) for p in mid_paths]\n",
    "for m in mids: print(m)"
   ]
  },
  {
   "cell_type": "code",
   "execution_count": 4,
   "metadata": {},
   "outputs": [
    {
     "name": "stdout",
     "output_type": "stream",
     "text": [
      "finished: <midi file '../../../datasets/midi/beethoven/waldstein_1.mid' type 1, 8 tracks, 20950 messages>\n",
      "finished: <midi file '../../../datasets/midi/beethoven/beethoven_opus90_2.mid' type 1, 17 tracks, 10106 messages>\n",
      "finished: <midi file '../../../datasets/midi/beethoven/waldstein_2.mid' type 1, 8 tracks, 1250 messages>\n",
      "finished: <midi file '../../../datasets/midi/beethoven/beethoven_opus90_1.mid' type 1, 17 tracks, 6320 messages>\n",
      "finished: <midi file '../../../datasets/midi/beethoven/waldstein_3.mid' type 1, 9 tracks, 19361 messages>\n",
      "finished: <midi file '../../../datasets/midi/beethoven/beethoven_opus10_2.mid' type 1, 17 tracks, 4187 messages>\n",
      "finished: <midi file '../../../datasets/midi/beethoven/beethoven_opus10_3.mid' type 1, 17 tracks, 7154 messages>\n",
      "finished: <midi file '../../../datasets/midi/beethoven/elise.mid' type 1, 8 tracks, 3192 messages>\n",
      "finished: <midi file '../../../datasets/midi/beethoven/beethoven_opus10_1.mid' type 1, 17 tracks, 8237 messages>\n",
      "finished: <midi file '../../../datasets/midi/beethoven/appass_2.mid' type 1, 11 tracks, 5418 messages>\n",
      "finished: <midi file '../../../datasets/midi/beethoven/appass_3.mid' type 1, 11 tracks, 18129 messages>\n",
      "finished: <midi file '../../../datasets/midi/beethoven/appass_1.mid' type 1, 11 tracks, 17474 messages>\n",
      "finished: <midi file '../../../datasets/midi/beethoven/beethoven_les_adieux_3.mid' type 1, 17 tracks, 12759 messages>\n",
      "finished: <midi file '../../../datasets/midi/beethoven/pathetique_1.mid' type 1, 9 tracks, 14246 messages>\n",
      "finished: <midi file '../../../datasets/midi/beethoven/mond_1.mid' type 1, 9 tracks, 3363 messages>\n",
      "finished: <midi file '../../../datasets/midi/beethoven/beethoven_les_adieux_2.mid' type 1, 17 tracks, 2325 messages>\n",
      "finished: <midi file '../../../datasets/midi/beethoven/mond_3.mid' type 1, 8 tracks, 15166 messages>\n",
      "finished: <midi file '../../../datasets/midi/beethoven/pathetique_2.mid' type 1, 10 tracks, 4038 messages>\n",
      "finished: <midi file '../../../datasets/midi/beethoven/pathetique_3.mid' type 1, 9 tracks, 6389 messages>\n",
      "finished: <midi file '../../../datasets/midi/beethoven/mond_2.mid' type 1, 7 tracks, 2316 messages>\n",
      "finished: <midi file '../../../datasets/midi/beethoven/beethoven_les_adieux_1.mid' type 1, 17 tracks, 8721 messages>\n",
      "finished: <midi file '../../../datasets/midi/beethoven/beethoven_opus22_1.mid' type 1, 17 tracks, 13624 messages>\n",
      "finished: <midi file '../../../datasets/midi/beethoven/beethoven_opus22_2.mid' type 1, 17 tracks, 5521 messages>\n",
      "finished: <midi file '../../../datasets/midi/beethoven/beethoven_hammerklavier_4.mid' type 1, 17 tracks, 21137 messages>\n",
      "finished: <midi file '../../../datasets/midi/beethoven/beethoven_opus22_3.mid' type 1, 17 tracks, 4819 messages>\n",
      "finished: <midi file '../../../datasets/midi/beethoven/beethoven_hammerklavier_1.mid' type 1, 17 tracks, 20535 messages>\n",
      "finished: <midi file '../../../datasets/midi/beethoven/beethoven_opus22_4.mid' type 1, 17 tracks, 8459 messages>\n",
      "finished: <midi file '../../../datasets/midi/beethoven/beethoven_hammerklavier_3.mid' type 1, 17 tracks, 12870 messages>\n",
      "finished: <midi file '../../../datasets/midi/beethoven/beethoven_hammerklavier_2.mid' type 1, 17 tracks, 4906 messages>\n",
      "6008 4.0\n",
      "2273 1.5\n",
      "297 1.0\n",
      "1754 3.0\n",
      "5269 2.5\n",
      "1319 4.0\n",
      "2036 4.0\n",
      "927 1.0\n",
      "1906 5.5\n",
      "1135 1.5\n",
      "4274 4.0\n",
      "4744 6.0\n",
      "3052 1.5\n",
      "4566 3.75\n",
      "811 6.0\n",
      "571 1.5\n",
      "6579 4.0\n",
      "1201 1.0\n",
      "1872 6.0\n",
      "439 3.0\n",
      "1976 2.0\n",
      "3925 6.48\n",
      "1497 2.0\n",
      "6228 5.75\n",
      "1296 2.0\n",
      "4594 2.38\n",
      "2450 1.25\n",
      "2674 1.5\n",
      "1069 2.0\n"
     ]
    },
    {
     "data": {
      "text/plain": [
       "(76742,)"
      ]
     },
     "execution_count": 4,
     "metadata": {},
     "output_type": "execute_result"
    }
   ],
   "source": [
    "# durations = [mid2np(m)[1] for m in mids]\n",
    "durations = []\n",
    "for m in mids:\n",
    "    durations.append(mid2np(m)[1])\n",
    "    print(f'finished: {m}')\n",
    "\n",
    "for d in durations: print(d.size, d.max())\n",
    "durations = np.concatenate(durations)\n",
    "durations.shape"
   ]
  },
  {
   "cell_type": "code",
   "execution_count": 5,
   "metadata": {},
   "outputs": [
    {
     "data": {
      "text/plain": [
       "(0.01, 6.48)"
      ]
     },
     "execution_count": 5,
     "metadata": {},
     "output_type": "execute_result"
    }
   ],
   "source": [
    "durations.min(), durations.max()"
   ]
  },
  {
   "cell_type": "code",
   "execution_count": 6,
   "metadata": {},
   "outputs": [
    {
     "data": {
      "image/png": "[encoded data removed]",
      "text/plain": [
       "<Figure size 432x288 with 1 Axes>"
      ]
     },
     "metadata": {
      "needs_background": "light"
     },
     "output_type": "display_data"
    }
   ],
   "source": [
    "import matplotlib.pyplot as plt\n",
    "\n",
    "plt.hist(durations, bins=100, range=(0, 4), log=True)\n",
    "plt.show()"
   ]
  },
  {
   "cell_type": "code",
   "execution_count": 7,
   "metadata": {},
   "outputs": [],
   "source": [
    "from sklearn.cluster import DBSCAN, KMeans\n",
    "\n",
    "# db = DBSCAN(eps=0.03).fit(durations.reshape(-1, 1))\n",
    "db = KMeans(n_clusters=24).fit(durations.reshape(-1, 1))"
   ]
  },
  {
   "cell_type": "code",
   "execution_count": 8,
   "metadata": {},
   "outputs": [
    {
     "name": "stdout",
     "output_type": "stream",
     "text": [
      "[ 0  1  2  3  4  5  6  7  8  9 10 11 12 13 14 15 16 17 18 19 20 21 22 23]\n",
      "label: 0    count: 33136, min:    0.24, max:    0.28, avg:    0.25, std:    0.00, med:    0.25\n",
      "label: 1    count: 5721, min:    0.49, max:    0.62, avg:    0.50, std:    0.01, med:    0.50\n",
      "label: 2    count:  320, min:    1.95, max:    2.25, avg:    2.01, std:    0.04, med:    2.00\n",
      "label: 3    count: 4280, min:    0.03, max:    0.05, avg:    0.04, std:    0.01, med:    0.04\n",
      "label: 4    count: 1719, min:    0.88, max:    1.12, avg:    0.99, std:    0.02, med:    1.00\n",
      "label: 5    count:   19, min:    4.38, max:    4.75, avg:    4.51, std:    0.09, med:    4.50\n",
      "label: 6    count:  296, min:    1.38, max:    1.57, avg:    1.50, std:    0.02, med:    1.50\n",
      "label: 7    count: 6909, min:    0.10, max:    0.14, avg:    0.12, std:    0.00, med:    0.12\n",
      "label: 8    count:   53, min:    2.75, max:    3.00, avg:    2.98, std:    0.07, med:    3.00\n",
      "label: 9    count:  545, min:    0.67, max:    0.82, avg:    0.75, std:    0.01, med:    0.75\n",
      "label: 10   count: 3021, min:    0.29, max:    0.33, avg:    0.33, std:    0.01, med:    0.33\n",
      "label: 11   count: 5487, min:    0.15, max:    0.19, avg:    0.17, std:    0.01, med:    0.17\n",
      "label: 12   count:    8, min:    5.50, max:    6.48, avg:    5.97, std:    0.26, med:    6.00\n",
      "label: 13   count:   12, min:    3.50, max:    3.75, avg:    3.67, std:    0.12, med:    3.75\n",
      "label: 14   count:   31, min:    2.38, max:    2.50, avg:    2.50, std:    0.02, med:    2.50\n",
      "label: 15   count: 4325, min:    0.20, max:    0.23, avg:    0.21, std:    0.01, med:    0.21\n",
      "label: 16   count:   66, min:    1.75, max:    1.82, avg:    1.78, std:    0.03, med:    1.77\n",
      "label: 17   count: 3098, min:    0.06, max:    0.09, avg:    0.08, std:    0.01, med:    0.08\n",
      "label: 18   count:   61, min:    1.23, max:    1.25, avg:    1.25, std:    0.00, med:    1.25\n",
      "label: 19   count: 5533, min:    0.01, max:    0.02, avg:    0.02, std:    0.00, med:    0.02\n",
      "label: 20   count:  666, min:    0.36, max:    0.42, avg:    0.38, std:    0.00, med:    0.38\n",
      "label: 21   count:    3, min:    5.00, max:    5.00, avg:    5.00, std:    0.00, med:    5.00\n",
      "label: 22   count: 1418, min:    0.43, max:    0.48, avg:    0.47, std:    0.01, med:    0.46\n",
      "label: 23   count:   15, min:    4.00, max:    4.00, avg:    4.00, std:    0.00, med:    4.00\n"
     ]
    },
    {
     "data": {
      "image/png": "[encoded data removed]",
      "text/plain": [
       "<Figure size 432x288 with 1 Axes>"
      ]
     },
     "metadata": {
      "needs_background": "light"
     },
     "output_type": "display_data"
    }
   ],
   "source": [
    "print(np.unique(db.labels_))\n",
    "\n",
    "for label in np.unique(db.labels_):\n",
    "    X = durations[db.labels_ == label]\n",
    "    Y = np.zeros_like(X)\n",
    "    \n",
    "    print(f'label: {label: <4} count: {X.size: >4}, min: {X.min():7.2f}, max: {X.max():7.2f}, avg: {X.mean():7.2f}, std: {X.std():7.2f}, med: {np.median(X):7.2f}')\n",
    "    \n",
    "    plt.scatter(X, Y)\n",
    "    \n",
    "plt.show()"
   ]
  },
  {
   "cell_type": "code",
   "execution_count": 24,
   "metadata": {},
   "outputs": [
    {
     "data": {
      "text/plain": [
       "array([20,  2, 20, ...,  2, 20, 17], dtype=int32)"
      ]
     },
     "execution_count": 24,
     "metadata": {},
     "output_type": "execute_result"
    }
   ],
   "source": [
    "db.predict(durations.reshape(-1, 1))"
   ]
  }
 ],
 "metadata": {
  "kernelspec": {
   "display_name": "Python 3",
   "language": "python",
   "name": "python3"
  },
  "language_info": {
   "codemirror_mode": {
    "name": "ipython",
    "version": 3
   },
   "file_extension": ".py",
   "mimetype": "text/x-python",
   "name": "python",
   "nbconvert_exporter": "python",
   "pygments_lexer": "ipython3",
   "version": "3.7.4"
  }
 },
 "nbformat": 4,
 "nbformat_minor": 2
}
