{
 "cells": [
  {
   "cell_type": "code",
   "execution_count": 39,
   "metadata": {},
   "outputs": [],
   "source": [
    "from mido import MidiFile\n",
    "import numpy as np\n",
    "import matplotlib.pyplot as plt\n",
    "import os\n",
    "import sys\n",
    "import numpy as np\n",
    "import json\n",
    "from scipy import sparse\n",
    "\n",
    "proj_base_path = '../../../'\n",
    "sys.path.append(os.path.join(os.getcwd(), proj_base_path))\n",
    "\n",
    "datasets_path = os.path.join(proj_base_path, 'datasets')\n",
    "artifacts_path = os.path.join(proj_base_path, 'artifacts')"
   ]
  },
  {
   "cell_type": "code",
   "execution_count": 111,
   "metadata": {},
   "outputs": [
    {
     "name": "stdout",
     "output_type": "stream",
     "text": [
      "(917, 152)(487, 152)(551, 152)(228, 152)(343, 152)(1002, 152)(317, 152)(253, 152)(121, 152)(389, 152)"
     ]
    }
   ],
   "source": [
    "dataset_dir = os.path.join(datasets_path, 'numpy', 'pokemon_clustered_time_no_transp')\n",
    "dataset_meta_dir = os.path.join(dataset_dir, 'meta')\n",
    "# word_vectors_file = '_word_vectors_5000_ignore_ratio=0.05.wv'\n",
    "# duration_dict_file = 'durations_dict.json'\n",
    "\n",
    "# word_vectors_path = os.path.join(dataset_meta_dir, word_vectors_file)\n",
    "# with open(os.path.join(dataset_meta_dir, duration_dict_file)) as fp:\n",
    "#     duration_dict = json.load(fp)\n",
    "\n",
    "track_paths = [os.path.join(dataset_dir, f) for f in os.listdir(dataset_dir) if f.endswith('.npz')]\n",
    "\n",
    "tracks = [sparse.load_npz(p).tocsr().toarray() for p in track_paths]\n",
    "\n",
    "for t in tracks: print(t.shape, end='')"
   ]
  },
  {
   "cell_type": "code",
   "execution_count": 112,
   "metadata": {},
   "outputs": [],
   "source": [
    "# dropping ~0 duration class datapoints\n",
    "# tracks = [t[t[:, 128] != 1] for t in tracks]\n",
    "# tracks = [t for t in tracks if t.shape[0]]"
   ]
  },
  {
   "cell_type": "code",
   "execution_count": 113,
   "metadata": {},
   "outputs": [],
   "source": [
    "# from src.data_processing.sparse_notes_classified_time.embed_adapt import decode_note_vector_track, encode_frames, append_track_end  \n",
    "# from gensim.models import KeyedVectors\n",
    "\n",
    "# wv = KeyedVectors.load(word_vectors_path, mmap='r')\n",
    "\n",
    "# note_vecs, durations = zip(*[(t[:, :128], t[:, 128:]) for t in tracks])\n",
    "\n",
    "# note_vecs = [encode_frames(sparse.csr_matrix(t), wv) for t in note_vecs]\n",
    "\n",
    "# tracks_embedded = [np.concatenate((n_v, d), axis=1) for n_v, d in zip(note_vecs, durations)]\n",
    "\n",
    "# len(tracks_embedded), tracks_embedded[0].shape"
   ]
  },
  {
   "cell_type": "code",
   "execution_count": 114,
   "metadata": {},
   "outputs": [
    {
     "data": {
      "text/plain": [
       "(4608, 152)"
      ]
     },
     "execution_count": 114,
     "metadata": {},
     "output_type": "execute_result"
    }
   ],
   "source": [
    "# tracks_blob_embedded = np.concatenate(tracks_embedded, axis=0)\n",
    "# tracks_blob_embedded_notes = tracks_blob_embedded[:, :16]\n",
    "# tracks_blob_embedded_durations = tracks_blob_embedded[:, 16:]\n",
    "\n",
    "tracks_blob = np.concatenate(tracks, axis=0)\n",
    "tracks_blob_notes = tracks_blob[:, :128]\n",
    "tracks_blob_durations = tracks_blob[:, 128:]\n",
    "\n",
    "tracks_blob.shape"
   ]
  },
  {
   "cell_type": "markdown",
   "metadata": {},
   "source": [
    "### whole dataset measurements"
   ]
  },
  {
   "cell_type": "code",
   "execution_count": 115,
   "metadata": {},
   "outputs": [
    {
     "name": "stdout",
     "output_type": "stream",
     "text": [
      "tonal measurements\n",
      "tonal range:       69\n",
      "tonal compression: 6.931717597471022\n",
      "\n",
      "rythm measurements\n",
      "rythm range:       23\n",
      "rythm compression: 12.260122699386503\n"
     ]
    }
   ],
   "source": [
    "import src.evaluation.sparse_clustered_time.rythm_measurements as rm\n",
    "import src.evaluation.sparse_clustered_time.tonal_measurements as tm\n",
    "\n",
    "print('tonal measurements')\n",
    "print(f'tonal range:       {tm.tonal_range(tracks_blob_notes)}')\n",
    "print(f'tonal compression: {tm.tonal_compression(tracks_blob_notes)}')\n",
    "print('\\nrythm measurements')\n",
    "print(f'rythm range:       {rm.rythm_range(tracks_blob_durations)}')\n",
    "print(f'rythm compression: {rm.rythm_compression(tracks_blob_durations)}')"
   ]
  },
  {
   "cell_type": "code",
   "execution_count": 124,
   "metadata": {},
   "outputs": [
    {
     "data": {
      "image/png": "[encoded data removed]",
      "text/plain": [
       "<Figure size 432x288 with 1 Axes>"
      ]
     },
     "metadata": {
      "needs_background": "light"
     },
     "output_type": "display_data"
    }
   ],
   "source": [
    "# tonal hist\n",
    "data = tm.tonal_hist(tracks_blob_notes)\n",
    "\n",
    "plt.bar(np.arange(0, 128), data, width = 0.5)\n",
    "\n",
    "np.save(os.path.join(dataset_meta_dir, 'evals', 'tonal_hist.npy'), data)\n",
    "plt.savefig(os.path.join(dataset_meta_dir, 'evals', 'tonal_hist.png'))\n",
    "\n",
    "plt.show()"
   ]
  },
  {
   "cell_type": "code",
   "execution_count": 128,
   "metadata": {},
   "outputs": [
    {
     "data": {
      "image/png": "[encoded data removed]",
      "text/plain": [
       "<Figure size 720x720 with 1 Axes>"
      ]
     },
     "metadata": {
      "needs_background": "light"
     },
     "output_type": "display_data"
    }
   ],
   "source": [
    "# tonal transition matrix\n",
    "data = tm.tonal_transition_matrix(tracks_blob_notes)\n",
    "\n",
    "fig = plt.figure(figsize = (10,10)) # create a 5 x 5 figure \n",
    "ax1 = fig.add_subplot(111)\n",
    "ax1.imshow(data, interpolation='none')\n",
    "# ax1.set_title('larger figure')\n",
    "\n",
    "np.save(os.path.join(dataset_meta_dir, 'evals', 'tonal_transition.npy'), data)\n",
    "plt.savefig(os.path.join(dataset_meta_dir, 'evals', 'tonal_transition.png'))\n",
    "\n",
    "plt.show()\n"
   ]
  },
  {
   "cell_type": "code",
   "execution_count": 125,
   "metadata": {},
   "outputs": [
    {
     "data": {
      "image/png": "[encoded data removed]",
      "text/plain": [
       "<Figure size 432x288 with 1 Axes>"
      ]
     },
     "metadata": {
      "needs_background": "light"
     },
     "output_type": "display_data"
    }
   ],
   "source": [
    "# rythm hist\n",
    "data = rm.rythm_hist(tracks_blob_durations)\n",
    "\n",
    "plt.bar(np.arange(0, 24), data, width = 0.5)\n",
    "\n",
    "np.save(os.path.join(dataset_meta_dir, 'evals', 'rythm_hist.npy'), data)\n",
    "plt.savefig(os.path.join(dataset_meta_dir, 'evals', 'rythm_hist.png'))\n",
    "\n",
    "plt.show()"
   ]
  },
  {
   "cell_type": "code",
   "execution_count": 127,
   "metadata": {},
   "outputs": [
    {
     "data": {
      "image/png": "[encoded data removed]",
      "text/plain": [
       "<Figure size 360x360 with 1 Axes>"
      ]
     },
     "metadata": {
      "needs_background": "light"
     },
     "output_type": "display_data"
    }
   ],
   "source": [
    "# duration transition matrix\n",
    "data = rm.rythm_transition_matrix(tracks_blob_durations)\n",
    "\n",
    "fig = plt.figure(figsize = (5,5)) # create a 5 x 5 figure \n",
    "ax1 = fig.add_subplot(111)\n",
    "ax1.imshow(data, interpolation='none')\n",
    "# ax1.set_title('larger figure')\n",
    "\n",
    "np.save(os.path.join(dataset_meta_dir, 'evals', 'rythm_transition.npy'), data)\n",
    "plt.savefig(os.path.join(dataset_meta_dir, 'evals', 'rythm_transition.png'))\n",
    "\n",
    "plt.show()"
   ]
  },
  {
   "cell_type": "code",
   "execution_count": null,
   "metadata": {},
   "outputs": [],
   "source": []
  }
 ],
 "metadata": {
  "kernelspec": {
   "display_name": "Python 3",
   "language": "python",
   "name": "python3"
  },
  "language_info": {
   "codemirror_mode": {
    "name": "ipython",
    "version": 3
   },
   "file_extension": ".py",
   "mimetype": "text/x-python",
   "name": "python",
   "nbconvert_exporter": "python",
   "pygments_lexer": "ipython3",
   "version": "3.7.4"
  }
 },
 "nbformat": 4,
 "nbformat_minor": 2
}
