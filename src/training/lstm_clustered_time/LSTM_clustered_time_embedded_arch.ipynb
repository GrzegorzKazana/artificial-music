{
 "cells": [
  {
   "cell_type": "code",
   "execution_count": 1,
   "metadata": {},
   "outputs": [],
   "source": [
    "# dont forget to switch to GPU if possible\n",
    "google_colab_env = False"
   ]
  },
  {
   "cell_type": "code",
   "execution_count": 2,
   "metadata": {},
   "outputs": [],
   "source": [
    "if google_colab_env:\n",
    "    from google.colab import drive\n",
    "    %tensorflow_version 1.x\n",
    "    drive.mount('/content/drive')\n",
    "    !git clone https://github.com/GrzegorzKazana/artificial-music.git"
   ]
  },
  {
   "cell_type": "markdown",
   "metadata": {},
   "source": [
    "## importing dataset, splitting tracks"
   ]
  },
  {
   "cell_type": "code",
   "execution_count": 5,
   "metadata": {},
   "outputs": [],
   "source": [
    "import os\n",
    "import sys\n",
    "import json\n",
    "import numpy as np\n",
    "from scipy import sparse\n",
    "\n",
    "proj_base_path = ('/content/artificial-music' \n",
    "                  if google_colab_env else '../../../')\n",
    "\n",
    "data_base_path =  ('/content/drive/My Drive/artificial-music/datasets'\n",
    "                   if google_colab_env else '../../../datasets')\n",
    "\n",
    "models_base_path =  ('/content/drive/My Drive/artificial-music/pretrained_models' \n",
    "                     if google_colab_env else '../../../pretrained_models')\n",
    "\n",
    "sys.path.append(os.path.join(os.getcwd(), proj_base_path))\n",
    "\n",
    "dataset_path = 'numpy/pokemon_clustered_time_no_transp'\n",
    "word_vectors_file = 'meta/_word_vectors_5000_ignore_ratio=0.05.wv'\n",
    "duration_dict_file = 'meta/durations_dict.json'"
   ]
  },
  {
   "cell_type": "code",
   "execution_count": 6,
   "metadata": {},
   "outputs": [
    {
     "name": "stdout",
     "output_type": "stream",
     "text": [
      "(917, 152)(487, 152)(551, 152)(228, 152)(343, 152)(1002, 152)(317, 152)(253, 152)(121, 152)(389, 152)"
     ]
    }
   ],
   "source": [
    "word_vectors_path = os.path.join(data_base_path, dataset_path, word_vectors_file)\n",
    "with open(os.path.join(data_base_path, dataset_path, duration_dict_file)) as fp:\n",
    "    duration_dict = json.load(fp)\n",
    "\n",
    "tracks_path = os.path.join(data_base_path, dataset_path)\n",
    "track_paths = [os.path.join(tracks_path, f) for f in os.listdir(tracks_path) if f.endswith('.npz')]\n",
    "\n",
    "tracks = [sparse.load_npz(p).tocsr().toarray() for p in track_paths]\n",
    "\n",
    "for t in tracks: print(t.shape, end='')"
   ]
  },
  {
   "cell_type": "code",
   "execution_count": null,
   "metadata": {},
   "outputs": [],
   "source": [
    "# dropping ~0 duration class datapoints\n",
    "tracks = [t[t[:, 128] != 1] for t in tracks]\n",
    "tracks = [t for t in tracks if t.shape[0]]"
   ]
  },
  {
   "cell_type": "markdown",
   "metadata": {},
   "source": [
    "## loading embedding + encoding dataset"
   ]
  },
  {
   "cell_type": "code",
   "execution_count": 7,
   "metadata": {},
   "outputs": [],
   "source": [
    "from gensim.models import KeyedVectors\n",
    "\n",
    "wv = KeyedVectors.load(word_vectors_path, mmap='r')"
   ]
  },
  {
   "cell_type": "code",
   "execution_count": 8,
   "metadata": {},
   "outputs": [
    {
     "data": {
      "text/plain": [
       "(10, (917, 40))"
      ]
     },
     "execution_count": 8,
     "metadata": {},
     "output_type": "execute_result"
    }
   ],
   "source": [
    "from src.data_processing.sparse_notes_classified_time.embed_adapt import decode_note_vector_track, encode_frames, append_track_end  \n",
    "\n",
    "note_vecs, durations = zip(*[(t[:, :128], t[:, 128:]) for t in tracks])\n",
    "\n",
    "note_vecs = [encode_frames(sparse.csr_matrix(t), wv) for t in note_vecs]\n",
    "\n",
    "tracks_embedded = [np.concatenate((n_v, d), axis=1) for n_v, d in zip(note_vecs, durations)]\n",
    "\n",
    "len(tracks_embedded), tracks_embedded[0].shape"
   ]
  },
  {
   "cell_type": "markdown",
   "metadata": {},
   "source": [
    "### prepare dataset generator"
   ]
  },
  {
   "cell_type": "code",
   "execution_count": 9,
   "metadata": {},
   "outputs": [
    {
     "data": {
      "text/plain": [
       "((5, 30, 40), (5, 30, 40))"
      ]
     },
     "execution_count": 9,
     "metadata": {},
     "output_type": "execute_result"
    }
   ],
   "source": [
    "def dataset_gen(tracks, window_size_range=(20, 300), batch_size=16):\n",
    "    \"\"\"\n",
    "    tracks - list of np.arrays of shape (track_length, frame_size)\n",
    "    window_size - length of generated batch\n",
    "    batch_size - number of sequences in batch\n",
    "    \"\"\"\n",
    "    max_window_size = min([len(t) for t in tracks]) - 3\n",
    "    while True:\n",
    "        window_size = np.random.randint(window_size_range[0], min(max_window_size, window_size_range[1]))\n",
    "        # select #batch_size tracks\n",
    "        selected_track_indicies = [np.random.randint(0, len(tracks)) for _ in range(batch_size)]\n",
    "        # select sequence starting point for each track\n",
    "        sequence_indicies = [np.random.randint(0, len(tracks[sti]) - window_size - 2)\n",
    "                             for sti in selected_track_indicies]\n",
    "        \n",
    "        \n",
    "        # create slices for x and y\n",
    "        x_slice = lambda seqi: np.s_[seqi:seqi + window_size]\n",
    "        y_slice = lambda seqi: np.s_[seqi + 1:seqi + window_size + 1]\n",
    "        \n",
    "        x = [tracks[sti][x_slice(seqi)] for sti, seqi in zip(selected_track_indicies, sequence_indicies)]\n",
    "        y = [tracks[sti][y_slice(seqi)] for sti, seqi in zip(selected_track_indicies, sequence_indicies)]\n",
    "\n",
    "        yield np.stack(x), np.stack(y)\n",
    "        \n",
    "x, y = next(dataset_gen(tracks_embedded, (10, 50), 5))\n",
    "x.shape, y.shape"
   ]
  },
  {
   "cell_type": "markdown",
   "metadata": {},
   "source": [
    "## Setting up model"
   ]
  },
  {
   "cell_type": "code",
   "execution_count": 10,
   "metadata": {},
   "outputs": [],
   "source": [
    "from tensorflow import keras as K\n",
    "\n",
    "NOTES_INPUT_SIZE = 16\n",
    "DURATION_INPUT_SIZE = 24\n",
    "\n",
    "DURATION_INPUT_DENSE_SIZE = 16\n",
    "DURATION_INPUT_LSTM_SIZE = 32\n",
    "DURATION_OUTPUT_DENSE = 16\n",
    "DURATION_OUTPUT_SIZE = DURATION_INPUT_SIZE\n",
    "\n",
    "MAIN_LSTM_SIZE = 64\n",
    "NOTES_OUTPUT_DENSE = 32\n",
    "NOTES_OUTPUT_SIZE = NOTES_INPUT_SIZE\n",
    "\n",
    "# MAIN_LSTM_SIZE = 256\n",
    "# MAIN_DENSE_SIZE = 128\n",
    "\n",
    "# NOTES_LSTM_SIZE = 64\n",
    "# DURATION_LSTM_SIZE = 32\n",
    "\n",
    "# NOTES_OUTPUT_DENSE = 32\n",
    "# DURATION_OUTPUT_DENSE = 32\n",
    "\n",
    "# NOTES_OUTPUT_SIZE = NOTES_INPUT_SIZE\n",
    "# DURATION_OUTPUT_SIZE = DURATION_INPUT_SIZE\n",
    "\n",
    "BATCH_SIZE = 16\n",
    "WINDOW_SIZE_RANGE = (10, 25)\n",
    "\n",
    "NOTES_INPUT_SHAPE = (None, NOTES_INPUT_SIZE)\n",
    "DURATION_INPUT_SHAPE = (None, DURATION_INPUT_SIZE)\n",
    "# None allows for variable seq_length between batches\n",
    "\n",
    "NOTES_INPUT_NAME = 'notes_input'\n",
    "DURATION_INPUT_NAME = 'duration_input'\n",
    "NOTES_OUTPUT_NAME = 'notes_output'\n",
    "DURATION_OUTPUT_NAME = 'duration_output'"
   ]
  },
  {
   "cell_type": "markdown",
   "metadata": {},
   "source": [
    "#### load existing model"
   ]
  },
  {
   "cell_type": "code",
   "execution_count": null,
   "metadata": {},
   "outputs": [],
   "source": [
    "# or load saved model\n",
    "model_path = 'lstm_lstm/embedded_16_128_stacked_32/embedded_16_128_stacked_32md_e200_t2019-10-09T09_59_31_cpu.h5'\n",
    "model = K.models.load_model(os.path.join(models_base_path, model_path))"
   ]
  },
  {
   "cell_type": "markdown",
   "metadata": {},
   "source": [
    "#### or create new one"
   ]
  },
  {
   "cell_type": "code",
   "execution_count": 11,
   "metadata": {},
   "outputs": [
    {
     "name": "stdout",
     "output_type": "stream",
     "text": [
      "WARNING:tensorflow:From /Users/grzegorzkazana/.local/share/virtualenvs/artificial-music-0CJsFWUp/lib/python3.7/site-packages/tensorflow_core/python/ops/resource_variable_ops.py:1630: calling BaseResourceVariable.__init__ (from tensorflow.python.ops.resource_variable_ops) with constraint is deprecated and will be removed in a future version.\n",
      "Instructions for updating:\n",
      "If using Keras pass *_constraint arguments to layers.\n",
      "Model: \"model\"\n",
      "__________________________________________________________________________________________________\n",
      "Layer (type)                    Output Shape         Param #     Connected to                     \n",
      "==================================================================================================\n",
      "duration_input (InputLayer)     [(None, None, 24)]   0                                            \n",
      "__________________________________________________________________________________________________\n",
      "dense (Dense)                   (None, None, 16)     400         duration_input[0][0]             \n",
      "__________________________________________________________________________________________________\n",
      "lstm (LSTM)                     (None, None, 32)     6272        dense[0][0]                      \n",
      "__________________________________________________________________________________________________\n",
      "dense_1 (Dense)                 (None, None, 16)     528         lstm[0][0]                       \n",
      "__________________________________________________________________________________________________\n",
      "duration_output (Dense)         (None, None, 24)     408         dense_1[0][0]                    \n",
      "__________________________________________________________________________________________________\n",
      "notes_input (InputLayer)        [(None, None, 16)]   0                                            \n",
      "__________________________________________________________________________________________________\n",
      "concatenate (Concatenate)       (None, None, 40)     0           notes_input[0][0]                \n",
      "                                                                 duration_output[0][0]            \n",
      "__________________________________________________________________________________________________\n",
      "lstm_1 (LSTM)                   (None, None, 64)     26880       concatenate[0][0]                \n",
      "__________________________________________________________________________________________________\n",
      "dense_2 (Dense)                 (None, None, 32)     2080        lstm_1[0][0]                     \n",
      "__________________________________________________________________________________________________\n",
      "notes_output (Dense)            (None, None, 16)     528         dense_2[0][0]                    \n",
      "==================================================================================================\n",
      "Total params: 37,096\n",
      "Trainable params: 37,096\n",
      "Non-trainable params: 0\n",
      "__________________________________________________________________________________________________\n"
     ]
    }
   ],
   "source": [
    "from tensorflow.keras.models import Model\n",
    "from tensorflow.keras.layers import Dense, LSTM, CuDNNLSTM, Input, Concatenate\n",
    "rnn_layer = CuDNNLSTM if google_colab_env else LSTM\n",
    "\n",
    "# x1 = Input(NOTES_INPUT_SHAPE, name=NOTES_INPUT_NAME)\n",
    "# x2 = Input(DURATION_INPUT_SHAPE, name=DURATION_INPUT_NAME)\n",
    "# x3 = Dense(DURATION_INPUT_DENSE_SIZE)(x2)\n",
    "\n",
    "# h1 = Concatenate()([x1, x3])\n",
    "# h2 = rnn_layer(MAIN_LSTM_SIZE, return_sequences=True)(h1)\n",
    "# h3 = Dense(MAIN_DENSE_SIZE)(h2)\n",
    "\n",
    "# g1 = rnn_layer(NOTES_LSTM_SIZE, return_sequences=True)(h3)\n",
    "# g2 = Dense(NOTES_OUTPUT_DENSE)(g1)\n",
    "# y1 = Dense(NOTES_OUTPUT_SIZE, name=NOTES_OUTPUT_NAME)(g2)\n",
    "\n",
    "# i1 = rnn_layer(DURATION_LSTM_SIZE, return_sequences=True)(h3)\n",
    "# i2 = Dense(DURATION_OUTPUT_DENSE)(i1)\n",
    "# y2 = Dense(DURATION_OUTPUT_SIZE, name=DURATION_OUTPUT_NAME, activation='softmax')(i2)\n",
    "\n",
    "# model = Model(inputs=[x1, x2], outputs=[y1, y2])\n",
    "\n",
    "x1 = Input(NOTES_INPUT_SHAPE, name=NOTES_INPUT_NAME)\n",
    "z1 = Input(DURATION_INPUT_SHAPE, name=DURATION_INPUT_NAME)\n",
    "\n",
    "z2 = Dense(DURATION_INPUT_DENSE_SIZE)(z1)\n",
    "z3 = rnn_layer(DURATION_INPUT_LSTM_SIZE, return_sequences=True)(z2)\n",
    "z4 = Dense(DURATION_OUTPUT_DENSE)(z3)\n",
    "z5 = Dense(DURATION_OUTPUT_SIZE, name=DURATION_OUTPUT_NAME, activation='softmax')(z4)\n",
    "\n",
    "h1 = Concatenate()([x1, z5])\n",
    "h2 = rnn_layer(MAIN_LSTM_SIZE, return_sequences=True)(h1)\n",
    "h3 = Dense(NOTES_OUTPUT_DENSE)(h2)\n",
    "h4 = Dense(NOTES_OUTPUT_SIZE, name=NOTES_OUTPUT_NAME)(h3)\n",
    "\n",
    "model = Model(inputs=[x1, z1], outputs=[z5, h4])\n",
    "\n",
    "model.summary()"
   ]
  },
  {
   "cell_type": "code",
   "execution_count": 12,
   "metadata": {},
   "outputs": [],
   "source": [
    "losses = {\n",
    "    NOTES_OUTPUT_NAME: 'mse',\n",
    "    DURATION_OUTPUT_NAME: 'categorical_crossentropy',\n",
    "}\n",
    "\n",
    "metrics = {\n",
    "    NOTES_OUTPUT_NAME: ['mse'],\n",
    "    DURATION_OUTPUT_NAME: ['categorical_accuracy'],\n",
    "}\n",
    "\n",
    "# maybe diffrent weights for outputs???\n",
    "\n",
    "model.compile(\n",
    "    loss=losses,\n",
    "    optimizer='adam', \n",
    "    metrics=metrics,\n",
    ")"
   ]
  },
  {
   "cell_type": "markdown",
   "metadata": {},
   "source": [
    "#### define training callbacks"
   ]
  },
  {
   "cell_type": "code",
   "execution_count": 13,
   "metadata": {},
   "outputs": [],
   "source": [
    "from src.training.common.training_callbacks import ModelAndLogSavingCallback, GeneratingAndPlottingCallback\n",
    "\n",
    "# logging callback\n",
    "# logging_path = 'lstm_clustered_time'\n",
    "# experiment_name = f'embedded_clustered_time_{MAIN_LSTM_SIZE}_no_shortest'\n",
    "# experiment_path = os.path.join(models_base_path, logging_path, experiment_name)\n",
    "# os.makedirs(experiment_path, exist_ok=True)\n",
    "# print(f'saving checkpoints and logs to {experiment_path}')\n",
    "\n",
    "# # logging disabled for now\n",
    "# log_callback = ModelAndLogSavingCallback(model, experiment_path, save_log_only=True)\n",
    "\n",
    "# generating callback\n",
    "from src.generating.generating import recurrent_generate\n",
    "from src.generating.embedded_clustered_time_generating_seeds import get_seed_generators\n",
    "from src.data_processing.common.helpers import pipe\n",
    "from src.data_processing.sparse_notes_classified_time.np2mid import np2sparse\n",
    "from src.data_processing.sparse_notes_classified_time.embed_adapt import decode_note_vector_track\n",
    "\n",
    "SEED_LENGTH = 5\n",
    "GENERATED_SEQ_LENGTH = 50\n",
    "GENERATING_WINDOW_SIZE = 15\n",
    "\n",
    "sd = get_seed_generators(duration_dict, ignore_shortest=True)\n",
    "\n",
    "def seed_generator():\n",
    "    return np.concatenate([\n",
    "        sd['random_noise_seed'](SEED_LENGTH, NOTES_INPUT_SIZE, batch_size=BATCH_SIZE // 4),\n",
    "        sd['zero_seed'](SEED_LENGTH, NOTES_INPUT_SIZE, word_vectors=wv, batch_size=BATCH_SIZE // 4),\n",
    "        sd['multi_note_harmonic_seed'](SEED_LENGTH, NOTES_INPUT_SIZE, word_vectors=wv, batch_size=BATCH_SIZE // 4),\n",
    "        sd['multi_note_harmonic_seed_noise'](SEED_LENGTH, NOTES_INPUT_SIZE, word_vectors=wv, batch_size=BATCH_SIZE // 4),\n",
    "    ], axis=0)\n",
    "\n",
    "sample_generator = lambda model, seed: recurrent_generate(\n",
    "    model, \n",
    "    seed, \n",
    "    GENERATED_SEQ_LENGTH, \n",
    "    GENERATING_WINDOW_SIZE, \n",
    "    is_binary=False,\n",
    "    transform_input=lambda x: (x[:, :, :NOTES_INPUT_SIZE], x[:, :, NOTES_INPUT_SIZE:]),\n",
    "    transform_output=lambda args: np.concatenate((args[0], args[1]), axis=2),\n",
    ")\n",
    "\n",
    "def tap(f):\n",
    "    def inner(x):\n",
    "        f(x)\n",
    "        return x\n",
    "    return inner\n",
    "\n",
    "def print_list(l):\n",
    "    for i, li in enumerate(l):\n",
    "        print(i, li)\n",
    "\n",
    "marker_end = np.zeros((BATCH_SIZE, 1, 40))\n",
    "marker_end[:, :, 16] = 1\n",
    "\n",
    "sparse_sample_generator = lambda model, seed: pipe(\n",
    "    sample_generator(model, seed),\n",
    "    # tap(lambda x: print(x.shape)),\n",
    "    # tap(lambda x: print_list(x.tolist()[0])),\n",
    "    # tap(lambda x: [print_list(np.split(np.argwhere(s)[:, 1], np.cumsum(np.unique(np.argwhere(s)[:, 0], return_counts=True)[1])[:-1])) for s in x]),\n",
    "    lambda x: np.concatenate((x, marker_end), axis=1),\n",
    "    lambda batch_of_samples: [\n",
    "        np2sparse(\n",
    "            decode_note_vector_track(s[:, :NOTES_INPUT_SIZE], wv, return_similarities=False),\n",
    "            s[:, NOTES_INPUT_SIZE:],\n",
    "            duration_dict,\n",
    "            ppq=20,\n",
    "        ) for s in batch_of_samples],\n",
    ")\n",
    "\n",
    "gen_callback = GeneratingAndPlottingCallback(model, sparse_sample_generator, seed_generator)"
   ]
  },
  {
   "cell_type": "code",
   "execution_count": null,
   "metadata": {},
   "outputs": [],
   "source": [
    "from tensorflow.keras.callbacks import EarlyStopping, ModelCheckpoint\n",
    "\n",
    "mc_best = ModelCheckpoint(\n",
    "    os.path.join(experiment_path, 'model_best.h5'),\n",
    "    monitor='val_loss',\n",
    "    mode='min',\n",
    "    save_best_only=True,\n",
    ")\n",
    "\n",
    "mc_last = ModelCheckpoint(\n",
    "    os.path.join(experiment_path, 'model_last.h5'),\n",
    "    monitor='val_loss',\n",
    "    mode='min',\n",
    "    save_best_only=False,\n",
    ")\n",
    "\n",
    "es = EarlyStopping(\n",
    "    monitor='val_loss',\n",
    "    min_delta=1e-2,\n",
    "    patience=10\n",
    ")"
   ]
  },
  {
   "cell_type": "markdown",
   "metadata": {},
   "source": [
    "#### training"
   ]
  },
  {
   "cell_type": "code",
   "execution_count": 14,
   "metadata": {},
   "outputs": [],
   "source": [
    "# pre training code\n",
    "from time import time\n",
    "epochs_elapsed = 0\n",
    "minutes_elapsed = 0\n",
    "\n",
    "def dataset_gen_split_inout(X, window_size_range, batch_size):\n",
    "    gen = dataset_gen(X, window_size_range, batch_size)\n",
    "    while True:\n",
    "        x, y = next(gen)\n",
    "        x_split = {\n",
    "            NOTES_INPUT_NAME: x[:, :, :NOTES_INPUT_SIZE],\n",
    "            DURATION_INPUT_NAME: x[:, :, NOTES_INPUT_SIZE:],\n",
    "        }\n",
    "        y_split = {\n",
    "            NOTES_OUTPUT_NAME: y[:, :, :NOTES_INPUT_SIZE],\n",
    "            DURATION_OUTPUT_NAME: y[:, :, NOTES_INPUT_SIZE:],\n",
    "        }\n",
    "        yield x_split, y_split\n",
    "\n",
    "# reserving last 25 notes for validation\n",
    "tracks_embedded_train = [t[:-25] for t in tracks_embedded]\n",
    "tracks_embedded_val = [t[-25:] for t in tracks_embedded]\n",
    "\n",
    "data_gen = dataset_gen_split_inout(tracks_embedded_train, WINDOW_SIZE_RANGE, BATCH_SIZE)\n",
    "test_gen = dataset_gen_split_inout(tracks_embedded_val, WINDOW_SIZE_RANGE, BATCH_SIZE)"
   ]
  },
  {
   "cell_type": "code",
   "execution_count": 15,
   "metadata": {},
   "outputs": [
    {
     "name": "stdout",
     "output_type": "stream",
     "text": [
      "Epoch 1/100\n",
      "WARNING:tensorflow:From /Users/grzegorzkazana/.local/share/virtualenvs/artificial-music-0CJsFWUp/lib/python3.7/site-packages/tensorflow_core/python/ops/math_grad.py:1424: where (from tensorflow.python.ops.array_ops) is deprecated and will be removed in a future version.\n",
      "Instructions for updating:\n",
      "Use tf.where in 2.0, which has the same broadcast rule as np.where\n",
      " 997/1000 [============================>.] - ETA: 0s - loss: 29.1315 - duration_output_loss: 1.4312 - notes_output_loss: 27.7004 - duration_output_categorical_accuracy: 0.5573 - notes_output_mean_squared_error: 27.6061Epoch 1/100\n",
      "  96/1000 [=>............................] - ETA: 6s - loss: 38.6238 - duration_output_loss: 1.2330 - notes_output_loss: 37.3908 - duration_output_categorical_accuracy: 0.5668 - notes_output_mean_squared_error: 37.6942Encountered 0 unknowns per 41 (0%)\n",
      "Encountered 0 unknowns per 41 (0%)\n",
      "Encountered 0 unknowns per 41 (0%)\n",
      "Encountered 0 unknowns per 41 (0%)\n",
      "Encountered 0 unknowns per 41 (0%)\n",
      "Encountered 0 unknowns per 41 (0%)\n",
      "Encountered 0 unknowns per 41 (0%)\n",
      "Encountered 0 unknowns per 41 (0%)\n",
      "Encountered 0 unknowns per 41 (0%)\n",
      "Encountered 0 unknowns per 41 (0%)\n",
      "Encountered 0 unknowns per 41 (0%)\n",
      "Encountered 0 unknowns per 41 (0%)\n",
      "Encountered 0 unknowns per 41 (0%)\n",
      "Encountered 0 unknowns per 41 (0%)\n",
      "Encountered 0 unknowns per 41 (0%)\n",
      "Encountered 0 unknowns per 41 (0%)\n"
     ]
    },
    {
     "data": {
      "image/png": "[encoded data removed]",
      "text/plain": [
       "<Figure size 2160x720 with 16 Axes>"
      ]
     },
     "metadata": {},
     "output_type": "display_data"
    },
    {
     "name": "stdout",
     "output_type": "stream",
     "text": [
      "1000/1000 [==============================] - 25s 25ms/step - loss: 29.1114 - duration_output_loss: 1.4304 - notes_output_loss: 27.6810 - duration_output_categorical_accuracy: 0.5575 - notes_output_mean_squared_error: 27.5859 - val_loss: 38.7616 - val_duration_output_loss: 1.2332 - val_notes_output_loss: 37.5284 - val_duration_output_categorical_accuracy: 0.5668 - val_notes_output_mean_squared_error: 37.8404\n",
      "Epoch 2/100\n",
      " 997/1000 [============================>.] - ETA: 0s - loss: 20.2833 - duration_output_loss: 1.0840 - notes_output_loss: 19.1993 - duration_output_categorical_accuracy: 0.6406 - notes_output_mean_squared_error: 19.0212Epoch 1/100\n",
      " 100/1000 [==>...........................] - ETA: 4s - loss: 41.6083 - duration_output_loss: 1.1263 - notes_output_loss: 40.4820 - duration_output_categorical_accuracy: 0.5763 - notes_output_mean_squared_error: 40.5094Encountered 0 unknowns per 41 (0%)\n",
      "Encountered 0 unknowns per 41 (0%)\n",
      "Encountered 1 unknowns per 41 (2%)\n",
      "Encountered 0 unknowns per 41 (0%)\n",
      "Encountered 0 unknowns per 41 (0%)\n",
      "Encountered 0 unknowns per 41 (0%)\n",
      "Encountered 0 unknowns per 41 (0%)\n",
      "Encountered 0 unknowns per 41 (0%)\n",
      "Encountered 0 unknowns per 41 (0%)\n",
      "Encountered 0 unknowns per 41 (0%)\n",
      "Encountered 0 unknowns per 41 (0%)\n",
      "Encountered 0 unknowns per 41 (0%)\n",
      "Encountered 0 unknowns per 41 (0%)\n",
      "Encountered 0 unknowns per 41 (0%)\n",
      "Encountered 0 unknowns per 41 (0%)\n",
      "Encountered 0 unknowns per 41 (0%)\n"
     ]
    },
    {
     "data": {
      "image/png": "[encoded data removed]",
      "text/plain": [
       "<Figure size 2160x720 with 16 Axes>"
      ]
     },
     "metadata": {},
     "output_type": "display_data"
    },
    {
     "name": "stdout",
     "output_type": "stream",
     "text": [
      "1000/1000 [==============================] - 21s 21ms/step - loss: 20.2798 - duration_output_loss: 1.0839 - notes_output_loss: 19.1959 - duration_output_categorical_accuracy: 0.6406 - notes_output_mean_squared_error: 19.0178 - val_loss: 41.6083 - val_duration_output_loss: 1.1263 - val_notes_output_loss: 40.4820 - val_duration_output_categorical_accuracy: 0.5763 - val_notes_output_mean_squared_error: 40.5094\n",
      "Epoch 3/100\n",
      " 998/1000 [============================>.] - ETA: 0s - loss: 17.3147 - duration_output_loss: 0.9837 - notes_output_loss: 16.3310 - duration_output_categorical_accuracy: 0.6728 - notes_output_mean_squared_error: 16.1620Epoch 1/100\n",
      "  97/1000 [=>............................] - ETA: 4s - loss: 42.9039 - duration_output_loss: 1.0494 - notes_output_loss: 41.8545 - duration_output_categorical_accuracy: 0.6620 - notes_output_mean_squared_error: 42.0797Encountered 0 unknowns per 41 (0%)\n",
      "Encountered 0 unknowns per 41 (0%)\n",
      "Encountered 0 unknowns per 41 (0%)\n",
      "Encountered 0 unknowns per 41 (0%)\n",
      "Encountered 0 unknowns per 41 (0%)\n",
      "Encountered 0 unknowns per 41 (0%)\n",
      "Encountered 0 unknowns per 41 (0%)\n",
      "Encountered 0 unknowns per 41 (0%)\n",
      "Encountered 0 unknowns per 41 (0%)\n",
      "Encountered 0 unknowns per 41 (0%)\n",
      "Encountered 0 unknowns per 41 (0%)\n",
      "Encountered 0 unknowns per 41 (0%)\n",
      "Encountered 0 unknowns per 41 (0%)\n",
      "Encountered 0 unknowns per 41 (0%)\n",
      "Encountered 0 unknowns per 41 (0%)\n",
      "Encountered 0 unknowns per 41 (0%)\n"
     ]
    },
    {
     "data": {
      "image/png": "[encoded data removed]",
      "text/plain": [
       "<Figure size 2160x720 with 16 Axes>"
      ]
     },
     "metadata": {},
     "output_type": "display_data"
    },
    {
     "name": "stdout",
     "output_type": "stream",
     "text": [
      "1000/1000 [==============================] - 22s 22ms/step - loss: 17.3131 - duration_output_loss: 0.9838 - notes_output_loss: 16.3293 - duration_output_categorical_accuracy: 0.6728 - notes_output_mean_squared_error: 16.1608 - val_loss: 42.6983 - val_duration_output_loss: 1.0491 - val_notes_output_loss: 41.6492 - val_duration_output_categorical_accuracy: 0.6619 - val_notes_output_mean_squared_error: 41.9068\n",
      "Epoch 4/100\n",
      " 999/1000 [============================>.] - ETA: 0s - loss: 15.7630 - duration_output_loss: 0.9059 - notes_output_loss: 14.8570 - duration_output_categorical_accuracy: 0.6934 - notes_output_mean_squared_error: 14.6336Epoch 1/100\n",
      "  88/1000 [=>............................] - ETA: 4s - loss: 42.1561 - duration_output_loss: 1.0493 - notes_output_loss: 41.1068 - duration_output_categorical_accuracy: 0.6459 - notes_output_mean_squared_error: 41.4842Encountered 0 unknowns per 41 (0%)\n",
      "Encountered 0 unknowns per 41 (0%)\n",
      "Encountered 0 unknowns per 41 (0%)\n",
      "Encountered 0 unknowns per 41 (0%)\n",
      "Encountered 0 unknowns per 41 (0%)\n",
      "Encountered 0 unknowns per 41 (0%)\n",
      "Encountered 0 unknowns per 41 (0%)\n",
      "Encountered 0 unknowns per 41 (0%)\n",
      "Encountered 0 unknowns per 41 (0%)\n",
      "Encountered 0 unknowns per 41 (0%)\n",
      "Encountered 0 unknowns per 41 (0%)\n",
      "Encountered 0 unknowns per 41 (0%)\n",
      "Encountered 0 unknowns per 41 (0%)\n",
      "Encountered 0 unknowns per 41 (0%)\n",
      "Encountered 0 unknowns per 41 (0%)\n",
      "Encountered 0 unknowns per 41 (0%)\n"
     ]
    },
    {
     "data": {
      "image/png": "[encoded data removed]",
      "text/plain": [
       "<Figure size 2160x720 with 16 Axes>"
      ]
     },
     "metadata": {},
     "output_type": "display_data"
    },
    {
     "name": "stdout",
     "output_type": "stream",
     "text": [
      "1000/1000 [==============================] - 22s 22ms/step - loss: 15.7620 - duration_output_loss: 0.9060 - notes_output_loss: 14.8560 - duration_output_categorical_accuracy: 0.6933 - notes_output_mean_squared_error: 14.6328 - val_loss: 42.1449 - val_duration_output_loss: 1.0472 - val_notes_output_loss: 41.0977 - val_duration_output_categorical_accuracy: 0.6462 - val_notes_output_mean_squared_error: 41.4608\n",
      "Epoch 5/100\n",
      " 997/1000 [============================>.] - ETA: 0s - loss: 14.7787 - duration_output_loss: 0.8659 - notes_output_loss: 13.9128 - duration_output_categorical_accuracy: 0.7005 - notes_output_mean_squared_error: 13.6903Epoch 1/100\n",
      "  94/1000 [=>............................] - ETA: 4s - loss: 43.4840 - duration_output_loss: 1.1167 - notes_output_loss: 42.3672 - duration_output_categorical_accuracy: 0.6145 - notes_output_mean_squared_error: 42.2300Encountered 0 unknowns per 41 (0%)\n",
      "Encountered 0 unknowns per 41 (0%)\n",
      "Encountered 0 unknowns per 41 (0%)\n",
      "Encountered 0 unknowns per 41 (0%)\n",
      "Encountered 0 unknowns per 41 (0%)\n",
      "Encountered 0 unknowns per 41 (0%)\n",
      "Encountered 0 unknowns per 41 (0%)\n",
      "Encountered 0 unknowns per 41 (0%)\n",
      "Encountered 0 unknowns per 41 (0%)\n",
      "Encountered 0 unknowns per 41 (0%)\n",
      "Encountered 0 unknowns per 41 (0%)\n",
      "Encountered 0 unknowns per 41 (0%)\n",
      "Encountered 0 unknowns per 41 (0%)\n",
      "Encountered 0 unknowns per 41 (0%)\n",
      "Encountered 0 unknowns per 41 (0%)\n",
      "Encountered 0 unknowns per 41 (0%)\n"
     ]
    },
    {
     "data": {
      "image/png": "[encoded data removed]",
      "text/plain": [
       "<Figure size 2160x720 with 16 Axes>"
      ]
     },
     "metadata": {},
     "output_type": "display_data"
    },
    {
     "name": "stdout",
     "output_type": "stream",
     "text": [
      "1000/1000 [==============================] - 21s 21ms/step - loss: 14.7839 - duration_output_loss: 0.8658 - notes_output_loss: 13.9181 - duration_output_categorical_accuracy: 0.7004 - notes_output_mean_squared_error: 13.6963 - val_loss: 43.6323 - val_duration_output_loss: 1.1175 - val_notes_output_loss: 42.5149 - val_duration_output_categorical_accuracy: 0.6154 - val_notes_output_mean_squared_error: 42.3844\n",
      "Epoch 6/100\n",
      " 998/1000 [============================>.] - ETA: 0s - loss: 13.9858 - duration_output_loss: 0.8312 - notes_output_loss: 13.1545 - duration_output_categorical_accuracy: 0.7087 - notes_output_mean_squared_error: 12.9263Epoch 1/100\n",
      "  97/1000 [=>............................] - ETA: 3s - loss: 45.0620 - duration_output_loss: 1.1520 - notes_output_loss: 43.9101 - duration_output_categorical_accuracy: 0.6039 - notes_output_mean_squared_error: 43.5335Encountered 0 unknowns per 41 (0%)\n",
      "Encountered 0 unknowns per 41 (0%)\n",
      "Encountered 0 unknowns per 41 (0%)\n",
      "Encountered 0 unknowns per 41 (0%)\n",
      "Encountered 0 unknowns per 41 (0%)\n",
      "Encountered 0 unknowns per 41 (0%)\n",
      "Encountered 0 unknowns per 41 (0%)\n",
      "Encountered 0 unknowns per 41 (0%)\n",
      "Encountered 0 unknowns per 41 (0%)\n",
      "Encountered 0 unknowns per 41 (0%)\n",
      "Encountered 0 unknowns per 41 (0%)\n",
      "Encountered 0 unknowns per 41 (0%)\n",
      "Encountered 0 unknowns per 41 (0%)\n",
      "Encountered 0 unknowns per 41 (0%)\n",
      "Encountered 0 unknowns per 41 (0%)\n",
      "Encountered 0 unknowns per 41 (0%)\n"
     ]
    },
    {
     "data": {
      "image/png": "[encoded data removed]",
      "text/plain": [
       "<Figure size 2160x720 with 16 Axes>"
      ]
     },
     "metadata": {},
     "output_type": "display_data"
    },
    {
     "name": "stdout",
     "output_type": "stream",
     "text": [
      "1000/1000 [==============================] - 21s 21ms/step - loss: 13.9898 - duration_output_loss: 0.8312 - notes_output_loss: 13.1586 - duration_output_categorical_accuracy: 0.7088 - notes_output_mean_squared_error: 12.9304 - val_loss: 45.1652 - val_duration_output_loss: 1.1499 - val_notes_output_loss: 44.0154 - val_duration_output_categorical_accuracy: 0.6054 - val_notes_output_mean_squared_error: 43.6111\n",
      "Epoch 7/100\n",
      " 998/1000 [============================>.] - ETA: 0s - loss: 13.4401 - duration_output_loss: 0.8165 - notes_output_loss: 12.6236 - duration_output_categorical_accuracy: 0.7119 - notes_output_mean_squared_error: 12.4105Epoch 1/100\n",
      "  92/1000 [=>............................] - ETA: 4s - loss: 45.2494 - duration_output_loss: 1.1952 - notes_output_loss: 44.0542 - duration_output_categorical_accuracy: 0.6224 - notes_output_mean_squared_error: 43.9964Encountered 1 unknowns per 41 (2%)\n",
      "Encountered 0 unknowns per 41 (0%)\n",
      "Encountered 0 unknowns per 41 (0%)\n",
      "Encountered 0 unknowns per 41 (0%)\n",
      "Encountered 0 unknowns per 41 (0%)\n",
      "Encountered 0 unknowns per 41 (0%)\n",
      "Encountered 0 unknowns per 41 (0%)\n",
      "Encountered 0 unknowns per 41 (0%)\n",
      "Encountered 0 unknowns per 41 (0%)\n",
      "Encountered 0 unknowns per 41 (0%)\n",
      "Encountered 0 unknowns per 41 (0%)\n",
      "Encountered 0 unknowns per 41 (0%)\n",
      "Encountered 0 unknowns per 41 (0%)\n",
      "Encountered 0 unknowns per 41 (0%)\n",
      "Encountered 0 unknowns per 41 (0%)\n",
      "Encountered 0 unknowns per 41 (0%)\n"
     ]
    },
    {
     "data": {
      "image/png": "[encoded data removed]",
      "text/plain": [
       "<Figure size 2160x720 with 16 Axes>"
      ]
     },
     "metadata": {},
     "output_type": "display_data"
    },
    {
     "name": "stdout",
     "output_type": "stream",
     "text": [
      "1000/1000 [==============================] - 21s 21ms/step - loss: 13.4360 - duration_output_loss: 0.8166 - notes_output_loss: 12.6194 - duration_output_categorical_accuracy: 0.7119 - notes_output_mean_squared_error: 12.4043 - val_loss: 45.1364 - val_duration_output_loss: 1.1932 - val_notes_output_loss: 43.9432 - val_duration_output_categorical_accuracy: 0.6225 - val_notes_output_mean_squared_error: 43.9243\n",
      "Epoch 8/100\n",
      " 997/1000 [============================>.] - ETA: 0s - loss: 12.9581 - duration_output_loss: 0.7972 - notes_output_loss: 12.1609 - duration_output_categorical_accuracy: 0.7140 - notes_output_mean_squared_error: 11.9291Epoch 1/100\n",
      "  94/1000 [=>............................] - ETA: 4s - loss: 45.8008 - duration_output_loss: 1.1718 - notes_output_loss: 44.6290 - duration_output_categorical_accuracy: 0.6249 - notes_output_mean_squared_error: 44.7198Encountered 0 unknowns per 41 (0%)\n",
      "Encountered 0 unknowns per 41 (0%)\n",
      "Encountered 0 unknowns per 41 (0%)\n",
      "Encountered 0 unknowns per 41 (0%)\n",
      "Encountered 0 unknowns per 41 (0%)\n",
      "Encountered 0 unknowns per 41 (0%)\n",
      "Encountered 0 unknowns per 41 (0%)\n",
      "Encountered 0 unknowns per 41 (0%)\n",
      "Encountered 0 unknowns per 41 (0%)\n",
      "Encountered 0 unknowns per 41 (0%)\n",
      "Encountered 0 unknowns per 41 (0%)\n",
      "Encountered 0 unknowns per 41 (0%)\n",
      "Encountered 0 unknowns per 41 (0%)\n",
      "Encountered 0 unknowns per 41 (0%)\n",
      "Encountered 0 unknowns per 41 (0%)\n",
      "Encountered 0 unknowns per 41 (0%)\n"
     ]
    },
    {
     "data": {
      "image/png": "[encoded data removed]",
      "text/plain": [
       "<Figure size 2160x720 with 16 Axes>"
      ]
     },
     "metadata": {},
     "output_type": "display_data"
    },
    {
     "name": "stdout",
     "output_type": "stream",
     "text": [
      "1000/1000 [==============================] - 20s 20ms/step - loss: 12.9528 - duration_output_loss: 0.7972 - notes_output_loss: 12.1556 - duration_output_categorical_accuracy: 0.7140 - notes_output_mean_squared_error: 11.9246 - val_loss: 45.7866 - val_duration_output_loss: 1.1751 - val_notes_output_loss: 44.6115 - val_duration_output_categorical_accuracy: 0.6238 - val_notes_output_mean_squared_error: 44.6955\n",
      "Epoch 9/100\n",
      " 999/1000 [============================>.] - ETA: 0s - loss: 12.6235 - duration_output_loss: 0.7874 - notes_output_loss: 11.8361 - duration_output_categorical_accuracy: 0.7151 - notes_output_mean_squared_error: 11.6083Epoch 1/100\n",
      "  93/1000 [=>............................] - ETA: 4s - loss: 46.7707 - duration_output_loss: 1.1770 - notes_output_loss: 45.5937 - duration_output_categorical_accuracy: 0.6295 - notes_output_mean_squared_error: 45.7587Encountered 0 unknowns per 41 (0%)\n",
      "Encountered 0 unknowns per 41 (0%)\n",
      "Encountered 0 unknowns per 41 (0%)\n",
      "Encountered 0 unknowns per 41 (0%)\n",
      "Encountered 0 unknowns per 41 (0%)\n",
      "Encountered 0 unknowns per 41 (0%)\n",
      "Encountered 0 unknowns per 41 (0%)\n",
      "Encountered 0 unknowns per 41 (0%)\n",
      "Encountered 0 unknowns per 41 (0%)\n",
      "Encountered 0 unknowns per 41 (0%)\n",
      "Encountered 0 unknowns per 41 (0%)\n",
      "Encountered 0 unknowns per 41 (0%)\n",
      "Encountered 0 unknowns per 41 (0%)\n",
      "Encountered 0 unknowns per 41 (0%)\n",
      "Encountered 0 unknowns per 41 (0%)\n",
      "Encountered 0 unknowns per 41 (0%)\n"
     ]
    },
    {
     "data": {
      "image/png": "[encoded data removed]",
      "text/plain": [
       "<Figure size 2160x720 with 16 Axes>"
      ]
     },
     "metadata": {},
     "output_type": "display_data"
    },
    {
     "name": "stdout",
     "output_type": "stream",
     "text": [
      "1000/1000 [==============================] - 21s 21ms/step - loss: 12.6233 - duration_output_loss: 0.7875 - notes_output_loss: 11.8358 - duration_output_categorical_accuracy: 0.7151 - notes_output_mean_squared_error: 11.6083 - val_loss: 47.0012 - val_duration_output_loss: 1.1778 - val_notes_output_loss: 45.8233 - val_duration_output_categorical_accuracy: 0.6299 - val_notes_output_mean_squared_error: 46.0089\n",
      "Epoch 10/100\n",
      " 998/1000 [============================>.] - ETA: 0s - loss: 12.3466 - duration_output_loss: 0.7755 - notes_output_loss: 11.5711 - duration_output_categorical_accuracy: 0.7186 - notes_output_mean_squared_error: 11.3152Epoch 1/100\n",
      "  98/1000 [=>............................] - ETA: 4s - loss: 46.9447 - duration_output_loss: 1.2056 - notes_output_loss: 45.7391 - duration_output_categorical_accuracy: 0.6051 - notes_output_mean_squared_error: 45.8036Encountered 0 unknowns per 41 (0%)\n",
      "Encountered 0 unknowns per 41 (0%)\n",
      "Encountered 0 unknowns per 41 (0%)\n",
      "Encountered 0 unknowns per 41 (0%)\n",
      "Encountered 0 unknowns per 41 (0%)\n",
      "Encountered 0 unknowns per 41 (0%)\n",
      "Encountered 0 unknowns per 41 (0%)\n",
      "Encountered 0 unknowns per 41 (0%)\n",
      "Encountered 0 unknowns per 41 (0%)\n",
      "Encountered 0 unknowns per 41 (0%)\n",
      "Encountered 0 unknowns per 41 (0%)\n",
      "Encountered 0 unknowns per 41 (0%)\n",
      "Encountered 0 unknowns per 41 (0%)\n",
      "Encountered 0 unknowns per 41 (0%)\n",
      "Encountered 0 unknowns per 41 (0%)\n",
      "Encountered 0 unknowns per 41 (0%)\n"
     ]
    },
    {
     "data": {
      "image/png": "[encoded data removed]",
      "text/plain": [
       "<Figure size 2160x720 with 16 Axes>"
      ]
     },
     "metadata": {},
     "output_type": "display_data"
    },
    {
     "name": "stdout",
     "output_type": "stream",
     "text": [
      "1000/1000 [==============================] - 21s 21ms/step - loss: 12.3420 - duration_output_loss: 0.7752 - notes_output_loss: 11.5667 - duration_output_categorical_accuracy: 0.7187 - notes_output_mean_squared_error: 11.3111 - val_loss: 47.0113 - val_duration_output_loss: 1.2055 - val_notes_output_loss: 45.8058 - val_duration_output_categorical_accuracy: 0.6049 - val_notes_output_mean_squared_error: 45.8957\n",
      "Epoch 11/100\n",
      " 998/1000 [============================>.] - ETA: 0s - loss: 11.9823 - duration_output_loss: 0.7700 - notes_output_loss: 11.2123 - duration_output_categorical_accuracy: 0.7205 - notes_output_mean_squared_error: 10.9862Epoch 1/100\n",
      "  91/1000 [=>............................] - ETA: 4s - loss: 46.7418 - duration_output_loss: 1.1943 - notes_output_loss: 45.5474 - duration_output_categorical_accuracy: 0.6213 - notes_output_mean_squared_error: 45.5771Encountered 0 unknowns per 41 (0%)\n",
      "Encountered 0 unknowns per 41 (0%)\n",
      "Encountered 0 unknowns per 41 (0%)\n",
      "Encountered 0 unknowns per 41 (0%)\n",
      "Encountered 0 unknowns per 41 (0%)\n",
      "Encountered 0 unknowns per 41 (0%)\n",
      "Encountered 0 unknowns per 41 (0%)\n",
      "Encountered 0 unknowns per 41 (0%)\n",
      "Encountered 0 unknowns per 41 (0%)\n",
      "Encountered 1 unknowns per 41 (2%)\n",
      "Encountered 0 unknowns per 41 (0%)\n",
      "Encountered 0 unknowns per 41 (0%)\n",
      "Encountered 0 unknowns per 41 (0%)\n",
      "Encountered 0 unknowns per 41 (0%)\n",
      "Encountered 0 unknowns per 41 (0%)\n",
      "Encountered 0 unknowns per 41 (0%)\n"
     ]
    },
    {
     "data": {
      "image/png": "[encoded data removed]",
      "text/plain": [
       "<Figure size 2160x720 with 16 Axes>"
      ]
     },
     "metadata": {},
     "output_type": "display_data"
    },
    {
     "name": "stdout",
     "output_type": "stream",
     "text": [
      "1000/1000 [==============================] - 21s 21ms/step - loss: 11.9823 - duration_output_loss: 0.7700 - notes_output_loss: 11.2123 - duration_output_categorical_accuracy: 0.7205 - notes_output_mean_squared_error: 10.9865 - val_loss: 46.6304 - val_duration_output_loss: 1.1918 - val_notes_output_loss: 45.4386 - val_duration_output_categorical_accuracy: 0.6221 - val_notes_output_mean_squared_error: 45.5671\n",
      "Epoch 12/100\n",
      " 999/1000 [============================>.] - ETA: 0s - loss: 11.7723 - duration_output_loss: 0.7514 - notes_output_loss: 11.0210 - duration_output_categorical_accuracy: 0.7253 - notes_output_mean_squared_error: 10.7918Epoch 1/100\n",
      "  91/1000 [=>............................] - ETA: 4s - loss: 48.5733 - duration_output_loss: 1.1781 - notes_output_loss: 47.3952 - duration_output_categorical_accuracy: 0.6153 - notes_output_mean_squared_error: 47.4702Encountered 0 unknowns per 41 (0%)\n",
      "Encountered 0 unknowns per 41 (0%)\n",
      "Encountered 0 unknowns per 41 (0%)\n",
      "Encountered 0 unknowns per 41 (0%)\n",
      "Encountered 0 unknowns per 41 (0%)\n",
      "Encountered 0 unknowns per 41 (0%)\n",
      "Encountered 0 unknowns per 41 (0%)\n",
      "Encountered 0 unknowns per 41 (0%)\n",
      "Encountered 0 unknowns per 41 (0%)\n",
      "Encountered 0 unknowns per 41 (0%)\n",
      "Encountered 0 unknowns per 41 (0%)\n",
      "Encountered 0 unknowns per 41 (0%)\n",
      "Encountered 0 unknowns per 41 (0%)\n",
      "Encountered 0 unknowns per 41 (0%)\n",
      "Encountered 0 unknowns per 41 (0%)\n",
      "Encountered 0 unknowns per 41 (0%)\n"
     ]
    },
    {
     "data": {
      "image/png": "[encoded data removed]",
      "text/plain": [
       "<Figure size 2160x720 with 16 Axes>"
      ]
     },
     "metadata": {},
     "output_type": "display_data"
    },
    {
     "name": "stdout",
     "output_type": "stream",
     "text": [
      "1000/1000 [==============================] - 22s 22ms/step - loss: 11.7707 - duration_output_loss: 0.7513 - notes_output_loss: 11.0194 - duration_output_categorical_accuracy: 0.7252 - notes_output_mean_squared_error: 10.7902 - val_loss: 48.3621 - val_duration_output_loss: 1.1882 - val_notes_output_loss: 47.1740 - val_duration_output_categorical_accuracy: 0.6120 - val_notes_output_mean_squared_error: 47.2201\n",
      "Epoch 13/100\n",
      " 997/1000 [============================>.] - ETA: 0s - loss: 11.6541 - duration_output_loss: 0.7495 - notes_output_loss: 10.9046 - duration_output_categorical_accuracy: 0.7255 - notes_output_mean_squared_error: 10.6688Epoch 1/100\n",
      "  88/1000 [=>............................] - ETA: 3s - loss: 48.2716 - duration_output_loss: 1.1781 - notes_output_loss: 47.0935 - duration_output_categorical_accuracy: 0.6179 - notes_output_mean_squared_error: 47.0620Encountered 0 unknowns per 41 (0%)\n",
      "Encountered 0 unknowns per 41 (0%)\n",
      "Encountered 0 unknowns per 41 (0%)\n",
      "Encountered 0 unknowns per 41 (0%)\n",
      "Encountered 0 unknowns per 41 (0%)\n",
      "Encountered 0 unknowns per 41 (0%)\n",
      "Encountered 0 unknowns per 41 (0%)\n",
      "Encountered 0 unknowns per 41 (0%)\n",
      "Encountered 0 unknowns per 41 (0%)\n",
      "Encountered 0 unknowns per 41 (0%)\n",
      "Encountered 0 unknowns per 41 (0%)\n",
      "Encountered 0 unknowns per 41 (0%)\n",
      "Encountered 0 unknowns per 41 (0%)\n",
      "Encountered 0 unknowns per 41 (0%)\n",
      "Encountered 0 unknowns per 41 (0%)\n",
      "Encountered 0 unknowns per 41 (0%)\n"
     ]
    },
    {
     "data": {
      "image/png": "[encoded data removed]",
      "text/plain": [
       "<Figure size 2160x720 with 16 Axes>"
      ]
     },
     "metadata": {},
     "output_type": "display_data"
    },
    {
     "name": "stdout",
     "output_type": "stream",
     "text": [
      "1000/1000 [==============================] - 21s 21ms/step - loss: 11.6505 - duration_output_loss: 0.7494 - notes_output_loss: 10.9011 - duration_output_categorical_accuracy: 0.7255 - notes_output_mean_squared_error: 10.6654 - val_loss: 48.2541 - val_duration_output_loss: 1.1881 - val_notes_output_loss: 47.0661 - val_duration_output_categorical_accuracy: 0.6139 - val_notes_output_mean_squared_error: 47.0430\n",
      "Epoch 14/100\n",
      " 997/1000 [============================>.] - ETA: 0s - loss: 11.4653 - duration_output_loss: 0.7425 - notes_output_loss: 10.7228 - duration_output_categorical_accuracy: 0.7259 - notes_output_mean_squared_error: 10.4806Epoch 1/100\n",
      "  95/1000 [=>............................] - ETA: 4s - loss: 46.0053 - duration_output_loss: 1.1754 - notes_output_loss: 44.8299 - duration_output_categorical_accuracy: 0.6258 - notes_output_mean_squared_error: 44.8637Encountered 0 unknowns per 41 (0%)\n",
      "Encountered 0 unknowns per 41 (0%)\n",
      "Encountered 0 unknowns per 41 (0%)\n",
      "Encountered 0 unknowns per 41 (0%)\n",
      "Encountered 0 unknowns per 41 (0%)\n",
      "Encountered 0 unknowns per 41 (0%)\n",
      "Encountered 0 unknowns per 41 (0%)\n",
      "Encountered 0 unknowns per 41 (0%)\n",
      "Encountered 0 unknowns per 41 (0%)\n",
      "Encountered 0 unknowns per 41 (0%)\n",
      "Encountered 0 unknowns per 41 (0%)\n",
      "Encountered 0 unknowns per 41 (0%)\n",
      "Encountered 0 unknowns per 41 (0%)\n",
      "Encountered 0 unknowns per 41 (0%)\n",
      "Encountered 0 unknowns per 41 (0%)\n",
      "Encountered 0 unknowns per 41 (0%)\n"
     ]
    },
    {
     "data": {
      "image/png": "[encoded data removed]",
      "text/plain": [
       "<Figure size 2160x720 with 16 Axes>"
      ]
     },
     "metadata": {},
     "output_type": "display_data"
    },
    {
     "name": "stdout",
     "output_type": "stream",
     "text": [
      "1000/1000 [==============================] - 21s 21ms/step - loss: 11.4679 - duration_output_loss: 0.7428 - notes_output_loss: 10.7251 - duration_output_categorical_accuracy: 0.7259 - notes_output_mean_squared_error: 10.4808 - val_loss: 46.1789 - val_duration_output_loss: 1.1861 - val_notes_output_loss: 44.9928 - val_duration_output_categorical_accuracy: 0.6215 - val_notes_output_mean_squared_error: 45.0586\n",
      "Epoch 15/100\n",
      " 596/1000 [================>.............] - ETA: 7s - loss: 11.4192 - duration_output_loss: 0.7334 - notes_output_loss: 10.6857 - duration_output_categorical_accuracy: 0.7297 - notes_output_mean_squared_error: 10.4293"
     ]
    },
    {
     "ename": "KeyboardInterrupt",
     "evalue": "",
     "output_type": "error",
     "traceback": [
      "\u001b[0;31m---------------------------------------------------------------------------\u001b[0m",
      "\u001b[0;31mKeyboardInterrupt\u001b[0m                         Traceback (most recent call last)",
      "\u001b[0;32m<ipython-input-15-34a67aaa1b48>\u001b[0m in \u001b[0;36m<module>\u001b[0;34m\u001b[0m\n\u001b[1;32m     10\u001b[0m     \u001b[0mvalidation_data\u001b[0m\u001b[0;34m=\u001b[0m\u001b[0mtest_gen\u001b[0m\u001b[0;34m,\u001b[0m\u001b[0;34m\u001b[0m\u001b[0;34m\u001b[0m\u001b[0m\n\u001b[1;32m     11\u001b[0m     \u001b[0mvalidation_steps\u001b[0m\u001b[0;34m=\u001b[0m\u001b[0mTEST_STEPS\u001b[0m\u001b[0;34m,\u001b[0m\u001b[0;34m\u001b[0m\u001b[0;34m\u001b[0m\u001b[0m\n\u001b[0;32m---> 12\u001b[0;31m     \u001b[0mcallbacks\u001b[0m\u001b[0;34m=\u001b[0m\u001b[0;34m[\u001b[0m\u001b[0mgen_callback\u001b[0m\u001b[0;34m]\u001b[0m \u001b[0;31m#mc, es]\u001b[0m\u001b[0;34m\u001b[0m\u001b[0;34m\u001b[0m\u001b[0m\n\u001b[0m\u001b[1;32m     13\u001b[0m )\n\u001b[1;32m     14\u001b[0m \u001b[0;34m\u001b[0m\u001b[0m\n",
      "\u001b[0;32m~/.local/share/virtualenvs/artificial-music-0CJsFWUp/lib/python3.7/site-packages/tensorflow_core/python/keras/engine/training.py\u001b[0m in \u001b[0;36mfit_generator\u001b[0;34m(self, generator, steps_per_epoch, epochs, verbose, callbacks, validation_data, validation_steps, validation_freq, class_weight, max_queue_size, workers, use_multiprocessing, shuffle, initial_epoch)\u001b[0m\n\u001b[1;32m   1294\u001b[0m         \u001b[0mshuffle\u001b[0m\u001b[0;34m=\u001b[0m\u001b[0mshuffle\u001b[0m\u001b[0;34m,\u001b[0m\u001b[0;34m\u001b[0m\u001b[0;34m\u001b[0m\u001b[0m\n\u001b[1;32m   1295\u001b[0m         \u001b[0minitial_epoch\u001b[0m\u001b[0;34m=\u001b[0m\u001b[0minitial_epoch\u001b[0m\u001b[0;34m,\u001b[0m\u001b[0;34m\u001b[0m\u001b[0;34m\u001b[0m\u001b[0m\n\u001b[0;32m-> 1296\u001b[0;31m         steps_name='steps_per_epoch')\n\u001b[0m\u001b[1;32m   1297\u001b[0m \u001b[0;34m\u001b[0m\u001b[0m\n\u001b[1;32m   1298\u001b[0m   def evaluate_generator(self,\n",
      "\u001b[0;32m~/.local/share/virtualenvs/artificial-music-0CJsFWUp/lib/python3.7/site-packages/tensorflow_core/python/keras/engine/training_generator.py\u001b[0m in \u001b[0;36mmodel_iteration\u001b[0;34m(model, data, steps_per_epoch, epochs, verbose, callbacks, validation_data, validation_steps, validation_freq, class_weight, max_queue_size, workers, use_multiprocessing, shuffle, initial_epoch, mode, batch_size, steps_name, **kwargs)\u001b[0m\n\u001b[1;32m    263\u001b[0m \u001b[0;34m\u001b[0m\u001b[0m\n\u001b[1;32m    264\u001b[0m       \u001b[0mis_deferred\u001b[0m \u001b[0;34m=\u001b[0m \u001b[0;32mnot\u001b[0m \u001b[0mmodel\u001b[0m\u001b[0;34m.\u001b[0m\u001b[0m_is_compiled\u001b[0m\u001b[0;34m\u001b[0m\u001b[0;34m\u001b[0m\u001b[0m\n\u001b[0;32m--> 265\u001b[0;31m       \u001b[0mbatch_outs\u001b[0m \u001b[0;34m=\u001b[0m \u001b[0mbatch_function\u001b[0m\u001b[0;34m(\u001b[0m\u001b[0;34m*\u001b[0m\u001b[0mbatch_data\u001b[0m\u001b[0;34m)\u001b[0m\u001b[0;34m\u001b[0m\u001b[0;34m\u001b[0m\u001b[0m\n\u001b[0m\u001b[1;32m    266\u001b[0m       \u001b[0;32mif\u001b[0m \u001b[0;32mnot\u001b[0m \u001b[0misinstance\u001b[0m\u001b[0;34m(\u001b[0m\u001b[0mbatch_outs\u001b[0m\u001b[0;34m,\u001b[0m \u001b[0mlist\u001b[0m\u001b[0;34m)\u001b[0m\u001b[0;34m:\u001b[0m\u001b[0;34m\u001b[0m\u001b[0;34m\u001b[0m\u001b[0m\n\u001b[1;32m    267\u001b[0m         \u001b[0mbatch_outs\u001b[0m \u001b[0;34m=\u001b[0m \u001b[0;34m[\u001b[0m\u001b[0mbatch_outs\u001b[0m\u001b[0;34m]\u001b[0m\u001b[0;34m\u001b[0m\u001b[0;34m\u001b[0m\u001b[0m\n",
      "\u001b[0;32m~/.local/share/virtualenvs/artificial-music-0CJsFWUp/lib/python3.7/site-packages/tensorflow_core/python/keras/engine/training.py\u001b[0m in \u001b[0;36mtrain_on_batch\u001b[0;34m(self, x, y, sample_weight, class_weight, reset_metrics)\u001b[0m\n\u001b[1;32m   1015\u001b[0m       \u001b[0mself\u001b[0m\u001b[0;34m.\u001b[0m\u001b[0m_update_sample_weight_modes\u001b[0m\u001b[0;34m(\u001b[0m\u001b[0msample_weights\u001b[0m\u001b[0;34m=\u001b[0m\u001b[0msample_weights\u001b[0m\u001b[0;34m)\u001b[0m\u001b[0;34m\u001b[0m\u001b[0;34m\u001b[0m\u001b[0m\n\u001b[1;32m   1016\u001b[0m       \u001b[0mself\u001b[0m\u001b[0;34m.\u001b[0m\u001b[0m_make_train_function\u001b[0m\u001b[0;34m(\u001b[0m\u001b[0;34m)\u001b[0m\u001b[0;34m\u001b[0m\u001b[0;34m\u001b[0m\u001b[0m\n\u001b[0;32m-> 1017\u001b[0;31m       \u001b[0moutputs\u001b[0m \u001b[0;34m=\u001b[0m \u001b[0mself\u001b[0m\u001b[0;34m.\u001b[0m\u001b[0mtrain_function\u001b[0m\u001b[0;34m(\u001b[0m\u001b[0mins\u001b[0m\u001b[0;34m)\u001b[0m  \u001b[0;31m# pylint: disable=not-callable\u001b[0m\u001b[0;34m\u001b[0m\u001b[0;34m\u001b[0m\u001b[0m\n\u001b[0m\u001b[1;32m   1018\u001b[0m \u001b[0;34m\u001b[0m\u001b[0m\n\u001b[1;32m   1019\u001b[0m     \u001b[0;32mif\u001b[0m \u001b[0mreset_metrics\u001b[0m\u001b[0;34m:\u001b[0m\u001b[0;34m\u001b[0m\u001b[0;34m\u001b[0m\u001b[0m\n",
      "\u001b[0;32m~/.local/share/virtualenvs/artificial-music-0CJsFWUp/lib/python3.7/site-packages/tensorflow_core/python/keras/backend.py\u001b[0m in \u001b[0;36m__call__\u001b[0;34m(self, inputs)\u001b[0m\n\u001b[1;32m   3474\u001b[0m \u001b[0;34m\u001b[0m\u001b[0m\n\u001b[1;32m   3475\u001b[0m     fetched = self._callable_fn(*array_vals,\n\u001b[0;32m-> 3476\u001b[0;31m                                 run_metadata=self.run_metadata)\n\u001b[0m\u001b[1;32m   3477\u001b[0m     \u001b[0mself\u001b[0m\u001b[0;34m.\u001b[0m\u001b[0m_call_fetch_callbacks\u001b[0m\u001b[0;34m(\u001b[0m\u001b[0mfetched\u001b[0m\u001b[0;34m[\u001b[0m\u001b[0;34m-\u001b[0m\u001b[0mlen\u001b[0m\u001b[0;34m(\u001b[0m\u001b[0mself\u001b[0m\u001b[0;34m.\u001b[0m\u001b[0m_fetches\u001b[0m\u001b[0;34m)\u001b[0m\u001b[0;34m:\u001b[0m\u001b[0;34m]\u001b[0m\u001b[0;34m)\u001b[0m\u001b[0;34m\u001b[0m\u001b[0;34m\u001b[0m\u001b[0m\n\u001b[1;32m   3478\u001b[0m     output_structure = nest.pack_sequence_as(\n",
      "\u001b[0;32m~/.local/share/virtualenvs/artificial-music-0CJsFWUp/lib/python3.7/site-packages/tensorflow_core/python/client/session.py\u001b[0m in \u001b[0;36m__call__\u001b[0;34m(self, *args, **kwargs)\u001b[0m\n\u001b[1;32m   1470\u001b[0m         ret = tf_session.TF_SessionRunCallable(self._session._session,\n\u001b[1;32m   1471\u001b[0m                                                \u001b[0mself\u001b[0m\u001b[0;34m.\u001b[0m\u001b[0m_handle\u001b[0m\u001b[0;34m,\u001b[0m \u001b[0margs\u001b[0m\u001b[0;34m,\u001b[0m\u001b[0;34m\u001b[0m\u001b[0;34m\u001b[0m\u001b[0m\n\u001b[0;32m-> 1472\u001b[0;31m                                                run_metadata_ptr)\n\u001b[0m\u001b[1;32m   1473\u001b[0m         \u001b[0;32mif\u001b[0m \u001b[0mrun_metadata\u001b[0m\u001b[0;34m:\u001b[0m\u001b[0;34m\u001b[0m\u001b[0;34m\u001b[0m\u001b[0m\n\u001b[1;32m   1474\u001b[0m           \u001b[0mproto_data\u001b[0m \u001b[0;34m=\u001b[0m \u001b[0mtf_session\u001b[0m\u001b[0;34m.\u001b[0m\u001b[0mTF_GetBuffer\u001b[0m\u001b[0;34m(\u001b[0m\u001b[0mrun_metadata_ptr\u001b[0m\u001b[0;34m)\u001b[0m\u001b[0;34m\u001b[0m\u001b[0;34m\u001b[0m\u001b[0m\n",
      "\u001b[0;31mKeyboardInterrupt\u001b[0m: "
     ]
    }
   ],
   "source": [
    "EPOCHS = 100\n",
    "STEPS_PER_EPOCH = 1000\n",
    "TEST_STEPS = 100\n",
    "\n",
    "start_time = time()\n",
    "model.fit_generator(\n",
    "    data_gen,\n",
    "    steps_per_epoch=STEPS_PER_EPOCH,\n",
    "    epochs=EPOCHS,\n",
    "    validation_data=test_gen,\n",
    "    validation_steps=TEST_STEPS,\n",
    "    callbacks=[gen_callback] #mc, es]\n",
    ")\n",
    "\n",
    "minutes_elapsed += (time() - start_time) // 60\n",
    "epochs_elapsed += EPOCHS"
   ]
  },
  {
   "cell_type": "markdown",
   "metadata": {},
   "source": [
    "### convert gpu model to cpu"
   ]
  },
  {
   "cell_type": "code",
   "execution_count": null,
   "metadata": {},
   "outputs": [],
   "source": [
    "model_path = 'lstm_clustered_time_embedded/model_best.h5'\n",
    "model = K.models.load_model(os.path.join(models_base_path, model_path))"
   ]
  },
  {
   "cell_type": "code",
   "execution_count": null,
   "metadata": {},
   "outputs": [],
   "source": [
    "from src.training.common.CUDNNLSTM_LSTM import cudnnlstm_to_lstm\n",
    "\n",
    "cpu_model = cudnnlstm_to_lstm(model)\n",
    "cpu_model.compile(\n",
    "    loss='mean_squared_error',\n",
    "    optimizer='adam', \n",
    "    metrics=[\"mean_squared_error\"],\n",
    ")\n",
    "\n",
    "K.models.save_model(cpu_model, os.path.join(models_base_path, model_path).replace('.h5', '_cpu.h5'))"
   ]
  }
 ],
 "metadata": {
  "kernelspec": {
   "display_name": "Python 3",
   "language": "python",
   "name": "python3"
  },
  "language_info": {
   "codemirror_mode": {
    "name": "ipython",
    "version": 3
   },
   "file_extension": ".py",
   "mimetype": "text/x-python",
   "name": "python",
   "nbconvert_exporter": "python",
   "pygments_lexer": "ipython3",
   "version": "3.7.4"
  }
 },
 "nbformat": 4,
 "nbformat_minor": 2
}
