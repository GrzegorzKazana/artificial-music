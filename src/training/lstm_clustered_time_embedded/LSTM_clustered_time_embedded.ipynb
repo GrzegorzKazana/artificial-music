{
 "cells": [
  {
   "cell_type": "code",
   "execution_count": 1,
   "metadata": {},
   "outputs": [],
   "source": [
    "google_colab_env = False"
   ]
  },
  {
   "cell_type": "code",
   "execution_count": 2,
   "metadata": {},
   "outputs": [],
   "source": [
    "if google_colab_env:\n",
    "    from google.colab import drive\n",
    "    drive.mount('/content/drive')\n",
    "    !git clone https://github.com/GrzegorzKazana/artificial-music.git"
   ]
  },
  {
   "cell_type": "markdown",
   "metadata": {},
   "source": [
    "## importing dataset, splitting tracks"
   ]
  },
  {
   "cell_type": "code",
   "execution_count": 3,
   "metadata": {},
   "outputs": [
    {
     "name": "stdout",
     "output_type": "stream",
     "text": [
      "(253, 152)(343, 152)(487, 152)(121, 152)(917, 152)(121, 152)(1002, 152)(1002, 152)(121, 152)(917, 152)(487, 152)(343, 152)(253, 152)(551, 152)(551, 152)(487, 152)(317, 152)(121, 152)(917, 152)(121, 152)(1002, 152)(1002, 152)(917, 152)(121, 152)(121, 152)(317, 152)(487, 152)(551, 152)(228, 152)(487, 152)(121, 152)(121, 152)(917, 152)(917, 152)(1002, 152)(1002, 152)(317, 152)(917, 152)(917, 152)(121, 152)(917, 152)(121, 152)(487, 152)(228, 152)(487, 152)(917, 152)(121, 152)(121, 152)(317, 152)(317, 152)(1002, 152)(917, 152)(121, 152)(917, 152)(121, 152)(228, 152)(487, 152)(487, 152)(389, 152)(228, 152)(317, 152)(389, 152)(343, 152)(389, 152)(317, 152)(228, 152)(389, 152)(487, 152)(228, 152)(389, 152)(228, 152)(253, 152)(343, 152)(343, 152)(389, 152)(253, 152)(228, 152)(389, 152)(487, 152)(228, 152)(121, 152)(487, 152)(551, 152)(253, 152)(389, 152)(228, 152)(487, 152)(343, 152)(343, 152)(1002, 152)(389, 152)(1002, 152)(389, 152)(343, 152)(228, 152)(317, 152)(228, 152)(389, 152)(551, 152)(487, 152)(551, 152)(551, 152)(121, 152)(487, 152)(253, 152)(228, 152)(317, 152)(228, 152)(487, 152)(343, 152)(343, 152)(1002, 152)(1002, 152)(551, 152)(551, 152)(343, 152)(1002, 152)(343, 152)(487, 152)(228, 152)(317, 152)(228, 152)(253, 152)(389, 152)(487, 152)(121, 152)(551, 152)(228, 152)(551, 152)(1002, 152)(253, 152)(317, 152)(917, 152)(343, 152)(1002, 152)(389, 152)(551, 152)(389, 152)(551, 152)(343, 152)(1002, 152)(253, 152)(1002, 152)(551, 152)(228, 152)(228, 152)(487, 152)(551, 152)(253, 152)(317, 152)(1002, 152)(228, 152)(917, 152)(1002, 152)(551, 152)(389, 152)(551, 152)(389, 152)(1002, 152)(917, 152)(228, 152)(317, 152)(253, 152)(551, 152)(487, 152)(228, 152)(551, 152)(253, 152)(317, 152)(389, 152)(551, 152)(1002, 152)(1002, 152)(389, 152)(551, 152)(121, 152)(317, 152)(253, 152)(228, 152)(228, 152)(551, 152)(389, 152)(253, 152)(317, 152)(121, 152)(551, 152)(389, 152)(1002, 152)(1002, 152)(551, 152)(389, 152)(121, 152)(317, 152)(253, 152)(389, 152)(551, 152)(228, 152)(389, 152)(343, 152)(317, 152)(121, 152)(917, 152)(917, 152)(121, 152)(317, 152)(343, 152)(253, 152)(389, 152)(253, 152)(389, 152)(343, 152)(317, 152)(487, 152)(917, 152)(917, 152)(487, 152)(317, 152)(343, 152)(253, 152)(487, 152)(253, 152)(343, 152)(317, 152)(917, 152)(121, 152)(917, 152)(253, 152)(917, 152)(343, 152)(917, 152)(121, 152)(317, 152)(343, 152)(253, 152)(487, 152)(487, 152)(253, 152)(343, 152)(317, 152)(343, 152)(917, 152)(1002, 152)(253, 152)(253, 152)(1002, 152)(917, 152)(343, 152)(317, 152)(343, 152)(253, 152)"
     ]
    }
   ],
   "source": [
    "import os\n",
    "import sys\n",
    "import json\n",
    "import numpy as np\n",
    "from scipy import sparse\n",
    "\n",
    "proj_base_path = ('/content/artificial-music' \n",
    "                  if google_colab_env else '../../../')\n",
    "\n",
    "data_base_path =  ('/content/drive/My Drive/artificial-music/datasets'\n",
    "                   if google_colab_env else '../../../datasets')\n",
    "\n",
    "models_base_path =  ('/content/drive/My Drive/artificial-music/pretrained_models' \n",
    "                     if google_colab_env else '../../../pretrained_models')\n",
    "\n",
    "sys.path.append(os.path.join(os.getcwd(), proj_base_path))\n",
    "\n",
    "dataset_path = 'numpy/pokemon_clustered_time'\n",
    "word_vectors_file = 'meta/_word_vectors_11000_ignore_ratio=0.05.wv'\n",
    "duration_dict_file = 'meta/durations_dict.json'\n",
    "\n",
    "word_vectors_path = os.path.join(data_base_path, dataset_path, word_vectors_file)\n",
    "with open(os.path.join(data_base_path, dataset_path, duration_dict_file)) as fp:\n",
    "    duration_dict = json.load(fp)\n",
    "\n",
    "tracks_path = os.path.join(data_base_path, dataset_path)\n",
    "track_paths = [os.path.join(tracks_path, f) for f in os.listdir(tracks_path) if f.endswith('.npz')]\n",
    "\n",
    "tracks = [sparse.load_npz(p).tocsr() for p in track_paths]\n",
    "\n",
    "for t in tracks: print(t.shape, end='')"
   ]
  },
  {
   "cell_type": "markdown",
   "metadata": {},
   "source": [
    "## loading embedding + encoding dataset"
   ]
  },
  {
   "cell_type": "code",
   "execution_count": 4,
   "metadata": {},
   "outputs": [],
   "source": [
    "from gensim.models import KeyedVectors\n",
    "\n",
    "wv = KeyedVectors.load(word_vectors_path, mmap='r')"
   ]
  },
  {
   "cell_type": "code",
   "execution_count": 5,
   "metadata": {},
   "outputs": [
    {
     "data": {
      "text/plain": [
       "(250, (253, 152))"
      ]
     },
     "execution_count": 5,
     "metadata": {},
     "output_type": "execute_result"
    }
   ],
   "source": [
    "from src.data_processing.sparse_notes_classified_time.embed_adapt import decode_note_vector_track, encode_frames, append_track_end  \n",
    "\n",
    "note_vecs, durations = zip(*[(t[:, :128], t[:, 128:].toarray()) for t in tracks])\n",
    "\n",
    "note_vecs = [encode_frames(t, wv) for t in note_vecs]\n",
    "\n",
    "tracks_embedded = [np.concatenate((n_v, d), axis=1) for n_v, d in zip(note_vecs, durations)]\n",
    "\n",
    "len(tracks), tracks[0].shape"
   ]
  },
  {
   "cell_type": "code",
   "execution_count": 6,
   "metadata": {},
   "outputs": [],
   "source": [
    "# from src.data_processing.embedding_sparse_notes.common import TRACK_END, UNKNOWN_FRAME\n",
    "\n",
    "# track_split_points = np.where(track == TRACK_END)[0]\n",
    "\n",
    "# # + 1, so split happens after <TRACK_END>, [:-1] to skip last, empty partition\n",
    "# tracks = [t.tolist() for t in np.split(track, track_split_points + 1)][:-1]\n",
    "# # tracks is now a list of lists of frames"
   ]
  },
  {
   "cell_type": "markdown",
   "metadata": {},
   "source": [
    "### prepare dataset generator"
   ]
  },
  {
   "cell_type": "code",
   "execution_count": 8,
   "metadata": {},
   "outputs": [
    {
     "data": {
      "text/plain": [
       "((5, 21, 40), (5, 21, 40))"
      ]
     },
     "execution_count": 8,
     "metadata": {},
     "output_type": "execute_result"
    }
   ],
   "source": [
    "def dataset_gen(tracks, window_size_range=(20, 300), batch_size=16):\n",
    "    \"\"\"\n",
    "    tracks - list of np.arrays of shape (track_length, frame_size)\n",
    "    window_size - length of generated batch\n",
    "    batch_size - number of sequences in batch\n",
    "    \"\"\"\n",
    "    max_window_size = min([len(t) for t in tracks]) - 3\n",
    "    while True:\n",
    "        window_size = np.random.randint(window_size_range[0], min(max_window_size, window_size_range[1]))\n",
    "        # select #batch_size tracks\n",
    "        selected_track_indicies = [np.random.randint(0, len(tracks)) for _ in range(batch_size)]\n",
    "        # select sequence starting point for each track\n",
    "        sequence_indicies = [np.random.randint(0, len(tracks[sti]) - window_size - 2)\n",
    "                             for sti in selected_track_indicies]\n",
    "        \n",
    "        \n",
    "        # create slices for x and y\n",
    "        x_slice = lambda seqi: np.s_[seqi:seqi + window_size]\n",
    "        y_slice = lambda seqi: np.s_[seqi + 1:seqi + window_size + 1]\n",
    "        \n",
    "        x = [tracks[sti][x_slice(seqi)] for sti, seqi in zip(selected_track_indicies, sequence_indicies)]\n",
    "        y = [tracks[sti][y_slice(seqi)] for sti, seqi in zip(selected_track_indicies, sequence_indicies)]\n",
    "\n",
    "        yield np.stack(x), np.stack(y)\n",
    "        \n",
    "x, y = next(dataset_gen(tracks_embedded, (10, 50), 5))\n",
    "x.shape, y.shape"
   ]
  },
  {
   "cell_type": "markdown",
   "metadata": {},
   "source": [
    "## Setting up model"
   ]
  },
  {
   "cell_type": "code",
   "execution_count": 9,
   "metadata": {},
   "outputs": [],
   "source": [
    "from tensorflow import keras as K\n",
    "\n",
    "NOTES_INPUT_SIZE = 16\n",
    "DURATION_INPUT_SIZE = 24\n",
    "\n",
    "DURATION_INPUT_DENSE_SIZE = 16\n",
    "\n",
    "MAIN_LSTM_SIZE = 256\n",
    "MAIN_DENSE_SIZE = 128\n",
    "\n",
    "NOTES_LSTM_SIZE = 64\n",
    "DURATION_LSTM_SIZE = 32\n",
    "\n",
    "NOTES_OUTPUT_DENSE = 32\n",
    "DURATION_OUTPUT_DENSE = 32\n",
    "\n",
    "NOTES_OUTPUT_SIZE = NOTES_INPUT_SIZE\n",
    "DURATION_OUTPUT_SIZE = DURATION_INPUT_SIZE\n",
    "\n",
    "BATCH_SIZE = 16\n",
    "WINDOW_SIZE_RANGE = (20, 300)\n",
    "\n",
    "NOTES_INPUT_SHAPE = (None, NOTES_INPUT_SIZE)\n",
    "DURATION_INPUT_SHAPE = (None, DURATION_INPUT_SIZE)\n",
    "# None allows for variable seq_length between batches\n",
    "\n",
    "NOTES_INPUT_NAME = 'notes_input'\n",
    "DURATION_INPUT_NAME = 'duration_input'\n",
    "NOTES_OUTPUT_NAME = 'notes_output'\n",
    "DURATION_OUTPUT_NAME = 'duration_output'"
   ]
  },
  {
   "cell_type": "markdown",
   "metadata": {},
   "source": [
    "#### load existing model"
   ]
  },
  {
   "cell_type": "code",
   "execution_count": null,
   "metadata": {},
   "outputs": [],
   "source": [
    "# or load saved model\n",
    "model_path = 'lstm_lstm/embedded_16_128_stacked_32/embedded_16_128_stacked_32md_e200_t2019-10-09T09_59_31_cpu.h5'\n",
    "model = K.models.load_model(os.path.join(models_base_path, model_path))"
   ]
  },
  {
   "cell_type": "markdown",
   "metadata": {},
   "source": [
    "#### or create new one"
   ]
  },
  {
   "cell_type": "code",
   "execution_count": 19,
   "metadata": {},
   "outputs": [
    {
     "name": "stdout",
     "output_type": "stream",
     "text": [
      "Model: \"model_7\"\n",
      "__________________________________________________________________________________________________\n",
      "Layer (type)                    Output Shape         Param #     Connected to                     \n",
      "==================================================================================================\n",
      "duration_input (InputLayer)     [(None, None, 24)]   0                                            \n",
      "__________________________________________________________________________________________________\n",
      "notes_input (InputLayer)        [(None, None, 16)]   0                                            \n",
      "__________________________________________________________________________________________________\n",
      "dense_28 (Dense)                (None, None, 16)     400         duration_input[0][0]             \n",
      "__________________________________________________________________________________________________\n",
      "concatenate_8 (Concatenate)     (None, None, 32)     0           notes_input[0][0]                \n",
      "                                                                 dense_28[0][0]                   \n",
      "__________________________________________________________________________________________________\n",
      "lstm_21 (LSTM)                  (None, None, 256)    295936      concatenate_8[0][0]              \n",
      "__________________________________________________________________________________________________\n",
      "dense_29 (Dense)                (None, None, 128)    32896       lstm_21[0][0]                    \n",
      "__________________________________________________________________________________________________\n",
      "lstm_22 (LSTM)                  (None, None, 64)     49408       dense_29[0][0]                   \n",
      "__________________________________________________________________________________________________\n",
      "lstm_23 (LSTM)                  (None, None, 32)     20608       dense_29[0][0]                   \n",
      "__________________________________________________________________________________________________\n",
      "dense_30 (Dense)                (None, None, 32)     2080        lstm_22[0][0]                    \n",
      "__________________________________________________________________________________________________\n",
      "dense_31 (Dense)                (None, None, 32)     1056        lstm_23[0][0]                    \n",
      "__________________________________________________________________________________________________\n",
      "notes_output (Dense)            (None, None, 16)     528         dense_30[0][0]                   \n",
      "__________________________________________________________________________________________________\n",
      "duration_output (Dense)         (None, None, 24)     792         dense_31[0][0]                   \n",
      "==================================================================================================\n",
      "Total params: 403,704\n",
      "Trainable params: 403,704\n",
      "Non-trainable params: 0\n",
      "__________________________________________________________________________________________________\n"
     ]
    }
   ],
   "source": [
    "from tensorflow.keras.models import Model\n",
    "from tensorflow.keras.layers import Dense, LSTM, CuDNNLSTM, Input, Concatenate\n",
    "rnn_layer = CuDNNLSTM if google_colab_env else LSTM\n",
    "\n",
    "x1 = Input(NOTES_INPUT_SHAPE, name=NOTES_INPUT_NAME)\n",
    "x2 = Input(DURATION_INPUT_SHAPE, name=DURATION_INPUT_NAME)\n",
    "x3 = Dense(DURATION_INPUT_DENSE_SIZE)(x2)\n",
    "\n",
    "h1 = Concatenate()([x1, x3])\n",
    "h2 = rnn_layer(MAIN_LSTM_SIZE, return_sequences=True)(h1)\n",
    "h3 = Dense(MAIN_DENSE_SIZE)(h2)\n",
    "\n",
    "g1 = rnn_layer(NOTES_LSTM_SIZE, return_sequences=True)(h3)\n",
    "g2 = Dense(NOTES_OUTPUT_DENSE)(g1)\n",
    "y1 = Dense(NOTES_OUTPUT_SIZE, name=NOTES_OUTPUT_NAME)(g2)\n",
    "\n",
    "i1 = rnn_layer(DURATION_LSTM_SIZE, return_sequences=True)(h3)\n",
    "i2 = Dense(DURATION_OUTPUT_DENSE)(i1)\n",
    "y2 = Dense(DURATION_OUTPUT_SIZE, name=DURATION_OUTPUT_NAME, activation='softmax')(i2)\n",
    "\n",
    "model = Model(inputs=[x1, x2], outputs=[y1, y2])\n",
    "\n",
    "model.summary()"
   ]
  },
  {
   "cell_type": "code",
   "execution_count": 21,
   "metadata": {},
   "outputs": [],
   "source": [
    "losses = {\n",
    "    NOTES_OUTPUT_NAME: 'mse',\n",
    "    DURATION_OUTPUT_NAME: 'categorical_crossentropy',\n",
    "}\n",
    "\n",
    "metrics = {\n",
    "    NOTES_OUTPUT_NAME: ['mse'],\n",
    "    DURATION_OUTPUT_NAME: ['categorical_accuracy'],\n",
    "}\n",
    "\n",
    "# maybe diffrent weights for outputs???\n",
    "\n",
    "model.compile(\n",
    "    loss=losses,\n",
    "    optimizer='adam', \n",
    "    metrics=metrics,\n",
    ")"
   ]
  },
  {
   "cell_type": "markdown",
   "metadata": {},
   "source": [
    "#### define training callbacks"
   ]
  },
  {
   "cell_type": "code",
   "execution_count": null,
   "metadata": {},
   "outputs": [],
   "source": [
    "from src.training.common.training_callbacks import ModelAndLogSavingCallback, GeneratingAndPlottingCallback\n",
    "\n",
    "# logging callback\n",
    "logging_path = 'lstm'\n",
    "experiment_name = f'clustered_time_{MAIN_LSTM_SIZE}'\n",
    "experiment_path = os.path.join(models_base_path, logging_path, experiment_name)\n",
    "os.makedirs(experiment_path, exist_ok=True)\n",
    "print(f'saving checkpoints and logs to {experiment_path}')\n",
    "\n",
    "# logging disabled for now\n",
    "log_callback = ModelAndLogSavingCallback(model, experiment_path, save_log_only=True)\n",
    "\n",
    "# generating callback\n",
    "from src.generating.generating import recurrent_generate\n",
    "from src.generating.embedded_clustered_time_generating_seeds import seed_generators\n",
    "from src.data_processing.common.helpers import pipe\n",
    "from src.data_processing.sparse_notes_classified_time.np2mid import np2sparse\n",
    "from src.data_processing.sparse_notes_classified_time.embed_adapt import decode_note_vector_track\n",
    "\n",
    "SEED_LENGTH = 10\n",
    "GENERATED_SEQ_LENGTH = 100\n",
    "GENERATING_WINDOW_SIZE = 25\n",
    "METHOD = 'const_frame_seed_noise'\n",
    "\n",
    "seed_generator = lambda: seed_generators[METHOD](\n",
    "    SEED_LENGTH, NOTES_INPUT_SIZE, word_vectors=wv, batch_size=BATCH_SIZE)\n",
    "\n",
    "sample_generator = lambda model, seed: recurrent_generate(\n",
    "    model, \n",
    "    seed, \n",
    "    GENERATED_SEQ_LENGTH, \n",
    "    GENERATING_WINDOW_SIZE, \n",
    "    is_binary=False,\n",
    "    transform_input=lambda x: (x[:, :, :NOTES_INPUT_SIZE], x[:, :, NOTES_INPUT_SIZE:],\n",
    "    transform_output=lambda args: np.concatenate(args, axis=2),\n",
    ")\n",
    "\n",
    "sparse_sample_generator = lambda model, seed: pipe(\n",
    "    sample_generator(model, seed),\n",
    "    lambda batch_of_samples: [\n",
    "        np2sparse(\n",
    "            decode_note_vector_track(s[:, :, :NOTES_INPUT_SIZE], wv), \n",
    "            s[:, :, NOTES_INPUT_SIZE:],\n",
    "            duration_dict,\n",
    "        ) for s in batch_of_samples]\n",
    ")\n",
    "\n",
    "print(f'generating sequences of {GENERATED_SEQ_LENGTH} using {METHOD}')\n",
    "\n",
    "gen_callback = GeneratingAndPlottingCallback(model, sparse_sample_generator, seed_generator)"
   ]
  },
  {
   "cell_type": "code",
   "execution_count": null,
   "metadata": {},
   "outputs": [],
   "source": [
    "from tensorflow.keras.callbacks import EarlyStopping, ModelCheckpoint\n",
    "\n",
    "mc = ModelCheckpoint(\n",
    "    os.path.join(experiment_path, 'm_e_{epoch:03d}-l_{val_loss:.2f}.h5'),\n",
    "    monitor='val_loss',\n",
    "    mode='min',\n",
    "    save_best_only=True,\n",
    ")\n",
    "\n",
    "es = EarlyStopping(\n",
    "    monitor='val_loss',\n",
    "    min_delta=1e-2,\n",
    "    patience=10\n",
    ")"
   ]
  },
  {
   "cell_type": "markdown",
   "metadata": {},
   "source": [
    "#### training"
   ]
  },
  {
   "cell_type": "code",
   "execution_count": null,
   "metadata": {},
   "outputs": [],
   "source": [
    "# pre training code\n",
    "from time import time\n",
    "epochs_elapsed = 0\n",
    "minutes_elapsed = 0\n",
    "\n",
    "data_gen = dataset_gen(vectorized_tracks, WINDOW_SIZE_RANGE, BATCH_SIZE)\n",
    "test_gen = dataset_gen(vectorized_tracks, WINDOW_SIZE_RANGE, BATCH_SIZE)"
   ]
  },
  {
   "cell_type": "code",
   "execution_count": null,
   "metadata": {},
   "outputs": [],
   "source": [
    "EPOCHS = 1\n",
    "STEPS_PER_EPOCH = 1\n",
    "TEST_STEPS = 100\n",
    "\n",
    "start_time = time()\n",
    "model.fit_generator(\n",
    "    data_gen,\n",
    "    steps_per_epoch=STEPS_PER_EPOCH,\n",
    "    epochs=EPOCHS,\n",
    "    validation_data=test_gen,\n",
    "    validation_steps=TEST_STEPS,\n",
    "    callbacks=[log_callback, gen_callback, mc, es]\n",
    ")\n",
    "\n",
    "minutes_elapsed += (time() - start_time) // 60\n",
    "epochs_elapsed += EPOCHS"
   ]
  }
 ],
 "metadata": {
  "kernelspec": {
   "display_name": "Python 3",
   "language": "python",
   "name": "python3"
  },
  "language_info": {
   "codemirror_mode": {
    "name": "ipython",
    "version": 3
   },
   "file_extension": ".py",
   "mimetype": "text/x-python",
   "name": "python",
   "nbconvert_exporter": "python",
   "pygments_lexer": "ipython3",
   "version": "3.7.4"
  }
 },
 "nbformat": 4,
 "nbformat_minor": 2
}
