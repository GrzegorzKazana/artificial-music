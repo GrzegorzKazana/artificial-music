{
  "nbformat": 4,
  "nbformat_minor": 0,
  "metadata": {
    "kernelspec": {
      "display_name": "Python 3",
      "language": "python",
      "name": "python3"
    },
    "language_info": {
      "codemirror_mode": {
        "name": "ipython",
        "version": 3
      },
      "file_extension": ".py",
      "mimetype": "text/x-python",
      "name": "python",
      "nbconvert_exporter": "python",
      "pygments_lexer": "ipython3",
      "version": "3.7.4"
    },
    "colab": {
      "name": "LSTM.ipynb",
      "provenance": [],
      "toc_visible": true
    }
  },
  "cells": [
    {
      "cell_type": "code",
      "metadata": {
        "id": "Zen-OG9k0874",
        "colab_type": "code",
        "colab": {
          "base_uri": "https://localhost:8080/",
          "height": 34
        },
        "outputId": "ffb4476c-15a9-49f4-f3f8-f062c3c49fec"
      },
      "source": [
        "from google.colab import drive\n",
        "drive.mount('/content/drive')"
      ],
      "execution_count": 5,
      "outputs": [
        {
          "output_type": "stream",
          "text": [
            "Drive already mounted at /content/drive; to attempt to forcibly remount, call drive.mount(\"/content/drive\", force_remount=True).\n"
          ],
          "name": "stdout"
        }
      ]
    },
    {
      "cell_type": "code",
      "metadata": {
        "id": "EorwXV_E0-HT",
        "colab_type": "code",
        "colab": {}
      },
      "source": [
        "%%shell\n",
        "\n",
        "git clone https://github.com/GrzegorzKazana/artificial-music.git"
      ],
      "execution_count": 0,
      "outputs": []
    },
    {
      "cell_type": "code",
      "metadata": {
        "id": "Padwl8pQ106a",
        "colab_type": "code",
        "colab": {
          "base_uri": "https://localhost:8080/",
          "height": 34
        },
        "outputId": "740cfd53-1a50-484d-ace2-01861ab8f08d"
      },
      "source": [
        "!ls drive"
      ],
      "execution_count": 12,
      "outputs": [
        {
          "output_type": "stream",
          "text": [
            "'My Drive'\n"
          ],
          "name": "stdout"
        }
      ]
    },
    {
      "cell_type": "markdown",
      "metadata": {
        "id": "KqZZoCTt0xdr",
        "colab_type": "text"
      },
      "source": [
        "## importing dataset, splitting tracks"
      ]
    },
    {
      "cell_type": "code",
      "metadata": {
        "id": "FagLgusJ0xdt",
        "colab_type": "code",
        "colab": {
          "base_uri": "https://localhost:8080/",
          "height": 51
        },
        "outputId": "d1ac7bd4-efae-4546-b8f1-8e5332a2d516"
      },
      "source": [
        "import os\n",
        "import sys\n",
        "import numpy as np\n",
        "\n",
        "proj_base_path = '/content/artificial-music'\n",
        "data_base_path = '/content/drive/My Drive/artificial-music/datasets'\n",
        "models_base_path = '/content/drive/My Drive/artificial-music/pretrained_models'\n",
        "sys.path.append(proj_base_path)\n",
        "\n",
        "dataset_path = 'numpy/pokemon100ms_no_vel_transposed/meta/'\n",
        "dataset_file = '_dicted_dataset_ignore_ratio=0.05.npy'\n",
        "word_vectors_file = '_word_vectors_1000_ignore_ratio=0.05.wv'\n",
        "\n",
        "track_path = os.path.join(data_base_path, dataset_path, dataset_file)\n",
        "word_vectors_path = os.path.join(data_base_path, dataset_path, word_vectors_file)\n",
        "\n",
        "track = np.load(track_path)\n",
        "\n",
        "track"
      ],
      "execution_count": 19,
      "outputs": [
        {
          "output_type": "execute_result",
          "data": {
            "text/plain": [
              "array(['D#3,C4', 'D#3,C4', 'D#3,C4', ..., '<UNKNOWN>', '<UNKNOWN>',\n",
              "       '<TRACK_END>'], dtype='<U27')"
            ]
          },
          "metadata": {
            "tags": []
          },
          "execution_count": 19
        }
      ]
    },
    {
      "cell_type": "code",
      "metadata": {
        "id": "nCYLYswY0xdw",
        "colab_type": "code",
        "colab": {
          "base_uri": "https://localhost:8080/",
          "height": 54
        },
        "outputId": "29af093f-6f92-4e67-b5b5-be40dc4371ac"
      },
      "source": [
        "from src.data_processing.embedding_sparse_notes.common import TRACK_END, UNKNOWN_FRAME\n",
        "\n",
        "track_split_points = np.where(track == TRACK_END)[0]\n",
        "\n",
        "# + 1, so split happens after <TRACK_END>, [:-1] to skip last, empty partition\n",
        "tracks = [t.tolist() for t in np.split(track, track_split_points + 1)][:-1]\n",
        "# tracks is now a list of lists of frames"
      ],
      "execution_count": 20,
      "outputs": [
        {
          "output_type": "stream",
          "text": [
            "['', '/env/python', '/usr/lib/python36.zip', '/usr/lib/python3.6', '/usr/lib/python3.6/lib-dynload', '/usr/local/lib/python3.6/dist-packages', '/usr/lib/python3/dist-packages', '/usr/local/lib/python3.6/dist-packages/IPython/extensions', '/root/.ipython', '/artificial-music', '/artificial-music', '/artificial-music', '/content/artificial-music']\n"
          ],
          "name": "stdout"
        }
      ]
    },
    {
      "cell_type": "markdown",
      "metadata": {
        "id": "W2I2-YQR0xdy",
        "colab_type": "text"
      },
      "source": [
        "## loading embedding + encoding dataset"
      ]
    },
    {
      "cell_type": "code",
      "metadata": {
        "id": "2hZZsVdt0xdz",
        "colab_type": "code",
        "colab": {
          "base_uri": "https://localhost:8080/",
          "height": 88
        },
        "outputId": "39e3098c-893f-44de-826c-3b23ba91c6f2"
      },
      "source": [
        "from gensim.models import KeyedVectors\n",
        "\n",
        "wv = KeyedVectors.load(word_vectors_path, mmap='r')\n",
        "\n",
        "def vectorize_frame(frame):\n",
        "    return wv[frame] if frame in wv else wv[UNKNOWN_FRAME]\n",
        "\n",
        "vectorized_tracks = [np.array([vectorize_frame(f) for f in t]) for t in tracks]\n",
        "for v in vectorized_tracks: print(v.shape, end=', ')"
      ],
      "execution_count": 21,
      "outputs": [
        {
          "output_type": "stream",
          "text": [
            "/usr/local/lib/python3.6/dist-packages/smart_open/smart_open_lib.py:398: UserWarning: This function is deprecated, use smart_open.open instead. See the migration notes for details: https://github.com/RaRe-Technologies/smart_open/blob/master/README.rst#migrating-to-the-new-open-function\n",
            "  'See the migration notes for details: %s' % _MIGRATION_NOTES_URL\n"
          ],
          "name": "stderr"
        },
        {
          "output_type": "stream",
          "text": [
            "(2197, 16), (2197, 16), (1920, 16), (361, 16), (552, 16), (1008, 16), (533, 16), (552, 16), (552, 16), (533, 16), (1008, 16), (361, 16), (2197, 16), (2197, 16), (2197, 16), (361, 16), (1920, 16), (552, 16), (1008, 16), (552, 16), (717, 16), (717, 16), (552, 16), (1008, 16), (552, 16), (1920, 16), (361, 16), (2197, 16), (2197, 16), (1920, 16), (552, 16), (1622, 16), (717, 16), (386, 16), (1008, 16), (1622, 16), (552, 16), (552, 16), (1622, 16), (1008, 16), (386, 16), (717, 16), (552, 16), (1622, 16), (1920, 16), (361, 16), (2197, 16), (2197, 16), (1920, 16), (361, 16), (552, 16), (717, 16), (1008, 16), (386, 16), (552, 16), (1008, 16), (1008, 16), (552, 16), (386, 16), (1008, 16), (1622, 16), (552, 16), (361, 16), (1920, 16), (2197, 16), (717, 16), (361, 16), (2197, 16), (1008, 16), (533, 16), (533, 16), (386, 16), (386, 16), (533, 16), (533, 16), (361, 16), (2197, 16), (1008, 16), (361, 16), (717, 16), (717, 16), (1622, 16), (2197, 16), (1920, 16), (533, 16), (361, 16), (533, 16), (533, 16), (361, 16), (1920, 16), (2197, 16), (1622, 16), (717, 16), (717, 16), (2197, 16), (361, 16), (717, 16), (1008, 16), (533, 16), (361, 16), (361, 16), (533, 16), (717, 16), (1920, 16), (361, 16), (2197, 16), (717, 16), (717, 16), (361, 16), (1622, 16), (2197, 16), (1920, 16), (1008, 16), (533, 16), (533, 16), (361, 16), (361, 16), (533, 16), (533, 16), (1008, 16), (361, 16), (1920, 16), (2197, 16), (1622, 16), (361, 16), (717, 16), (361, 16), (1622, 16), (1008, 16), (361, 16), (1920, 16), (361, 16), (361, 16), (1920, 16), (361, 16), (1622, 16), (361, 16), (717, 16), (361, 16), (361, 16), (2197, 16), (1622, 16), (1008, 16), (361, 16), (1920, 16), (1920, 16), (361, 16), (1008, 16), (1622, 16), (2197, 16), (361, 16), (361, 16), (717, 16), (361, 16), (1622, 16), (361, 16), (1008, 16), (2197, 16), (1920, 16), (1920, 16), (1008, 16), (2197, 16), (361, 16), (1622, 16), (361, 16), (1920, 16), (361, 16), (552, 16), (1622, 16), (361, 16), (1008, 16), (1920, 16), (533, 16), (533, 16), (1920, 16), (1008, 16), (361, 16), (1622, 16), (552, 16), (361, 16), (1920, 16), (1920, 16), (1622, 16), (552, 16), (386, 16), (1008, 16), (386, 16), (386, 16), (717, 16), (717, 16), (533, 16), (386, 16), (386, 16), (552, 16), (1008, 16), (386, 16), (1622, 16), (552, 16), (1920, 16), (1622, 16), (386, 16), (552, 16), (386, 16), (386, 16), (533, 16), (717, 16), (533, 16), (386, 16), (552, 16), (386, 16), (1622, 16), (2197, 16), (361, 16), (1622, 16), (386, 16), (361, 16), (386, 16), (533, 16), (717, 16), (717, 16), (533, 16), (386, 16), (386, 16), (361, 16), (2197, 16), (1622, 16), (386, 16), (361, 16), (533, 16), (361, 16), (552, 16), (717, 16), (717, 16), (552, 16), (361, 16), (533, 16), (386, 16), (361, 16), (386, 16), (1622, 16), "
          ],
          "name": "stdout"
        }
      ]
    },
    {
      "cell_type": "code",
      "metadata": {
        "id": "b7EXic0A0xd0",
        "colab_type": "code",
        "colab": {
          "base_uri": "https://localhost:8080/",
          "height": 34
        },
        "outputId": "c0510373-a96e-4a3e-af80-74e8dd6344ba"
      },
      "source": [
        "def dataset_gen(tracks, window_size, batch_size):\n",
        "    \"\"\"\n",
        "    tracks - list of np.arrays of shape (track_length, frame_size)\n",
        "    window_size - length of generated batch\n",
        "    batch_size - number of sequences in batch\n",
        "    \"\"\"\n",
        "    while True:\n",
        "        # select #batch_size tracks\n",
        "        selected_track_indicies = [np.random.randint(0, len(tracks)) for _ in range(batch_size)]\n",
        "        # select sequence starting point for each track\n",
        "        sequence_indicies = [np.random.randint(0, len(tracks[sti]) - window_size - 2)\n",
        "                             for sti in selected_track_indicies]\n",
        "        \n",
        "        \n",
        "        # create slices for x and y\n",
        "        x_slice = lambda seqi: np.s_[seqi:seqi + window_size]\n",
        "        y_slice = lambda seqi: np.s_[seqi + 1:seqi + window_size + 1]\n",
        "        \n",
        "        x = [tracks[sti][x_slice(seqi)] for sti, seqi in zip(selected_track_indicies, sequence_indicies)]\n",
        "        y = [tracks[sti][y_slice(seqi)] for sti, seqi in zip(selected_track_indicies, sequence_indicies)]\n",
        "\n",
        "        yield np.stack(x), np.stack(y)\n",
        "        \n",
        "x, y = next(dataset_gen(vectorized_tracks, 50, 5))\n",
        "x.shape, y.shape"
      ],
      "execution_count": 22,
      "outputs": [
        {
          "output_type": "execute_result",
          "data": {
            "text/plain": [
              "((5, 50, 16), (5, 50, 16))"
            ]
          },
          "metadata": {
            "tags": []
          },
          "execution_count": 22
        }
      ]
    },
    {
      "cell_type": "markdown",
      "metadata": {
        "id": "RJoLGPms0xd3",
        "colab_type": "text"
      },
      "source": [
        "## Setting up model"
      ]
    },
    {
      "cell_type": "code",
      "metadata": {
        "id": "HFWDPNrO0xd4",
        "colab_type": "code",
        "colab": {}
      },
      "source": [
        "from tensorflow import keras as K\n",
        "\n",
        "INPUT_SIZE = 16\n",
        "HIDDEN_SIZE = 128\n",
        "OUTPUT_SIZE = INPUT_SIZE\n",
        "\n",
        "BATCH_SIZE = 16\n",
        "WINDOW_SIZE = 100\n",
        "\n",
        "INPUT_SHAPE = (None, INPUT_SIZE)\n",
        "# None allows for variable seq_length between batches"
      ],
      "execution_count": 0,
      "outputs": []
    },
    {
      "cell_type": "markdown",
      "metadata": {
        "id": "3le9AfeC0xd5",
        "colab_type": "text"
      },
      "source": [
        "#### load existing model"
      ]
    },
    {
      "cell_type": "code",
      "metadata": {
        "id": "C_vG_BbL0xd6",
        "colab_type": "code",
        "colab": {}
      },
      "source": [
        "# or load saved model\n",
        "model_path = 'heck_512_all/m1559929134.h5'\n",
        "model = K.models.load_model(os.path.join(models_base_path, model_path))"
      ],
      "execution_count": 0,
      "outputs": []
    },
    {
      "cell_type": "markdown",
      "metadata": {
        "id": "lLuHi5380xd7",
        "colab_type": "text"
      },
      "source": [
        "#### or create new one"
      ]
    },
    {
      "cell_type": "code",
      "metadata": {
        "id": "12p2Y-6q0xd8",
        "colab_type": "code",
        "colab": {
          "base_uri": "https://localhost:8080/",
          "height": 88
        },
        "outputId": "c30b35e8-387c-48c7-daa9-22622c98e71d"
      },
      "source": [
        "model = K.models.Sequential([\n",
        "    K.layers.LSTM(\n",
        "        HIDDEN_SIZE,\n",
        "        input_shape=INPUT_SHAPE,\n",
        "        return_sequences=True,\n",
        "    ),\n",
        "    K.layers.Dense(\n",
        "        OUTPUT_SIZE,\n",
        "    ),\n",
        "])"
      ],
      "execution_count": 24,
      "outputs": [
        {
          "output_type": "stream",
          "text": [
            "WARNING:tensorflow:From /usr/local/lib/python3.6/dist-packages/tensorflow/python/ops/init_ops.py:1251: calling VarianceScaling.__init__ (from tensorflow.python.ops.init_ops) with dtype is deprecated and will be removed in a future version.\n",
            "Instructions for updating:\n",
            "Call initializer instance with the dtype argument instead of passing it to the constructor\n"
          ],
          "name": "stdout"
        }
      ]
    },
    {
      "cell_type": "code",
      "metadata": {
        "id": "gleObWwY0xd9",
        "colab_type": "code",
        "colab": {}
      },
      "source": [
        "model.compile(\n",
        "    loss='mean_squared_error',\n",
        "    optimizer=K.optimizers.Adam(), \n",
        "    metrics=[\"mean_squared_error\"],\n",
        ")"
      ],
      "execution_count": 0,
      "outputs": []
    },
    {
      "cell_type": "markdown",
      "metadata": {
        "id": "7nIljKza0xd_",
        "colab_type": "text"
      },
      "source": [
        "#### define training callbacks"
      ]
    },
    {
      "cell_type": "code",
      "metadata": {
        "id": "768UvZQG0xeA",
        "colab_type": "code",
        "colab": {
          "base_uri": "https://localhost:8080/",
          "height": 51
        },
        "outputId": "1c5f562b-2ddb-43a6-f23f-671ef8ac6ff7"
      },
      "source": [
        "from src.training.common.training_callbacks import ModelAndLogSavingCallback, GeneratingAndPlottingCallback\n",
        "\n",
        "# logging callback\n",
        "logging_path = 'lstm'\n",
        "experiment_name = f'embedded_{INPUT_SIZE}_{HIDDEN_SIZE}'\n",
        "experiment_path = os.path.join(models_base_path, logging_path, experiment_name)\n",
        "os.makedirs(experiment_path, exist_ok=True)\n",
        "print(f'saving checkpoints and logs to {experiment_path}')\n",
        "\n",
        "# logging disabled for now\n",
        "log_callback = ModelAndLogSavingCallback(model, experiment_path)\n",
        "\n",
        "# generating callback\n",
        "from src.generating.generating import recurrent_generate\n",
        "from src.generating.embedded_generating_seeds import seed_generators\n",
        "from src.data_processing.common.helpers import pipe\n",
        "from src.data_processing.embedding_sparse_notes.reverse_transform import np2sparse\n",
        "\n",
        "SEED_LENGTH = 20\n",
        "GENERATED_SEQ_LENGTH = 400\n",
        "METHOD = 'random_noise_seed'\n",
        "\n",
        "seed_generator = lambda: seed_generators[METHOD](\n",
        "    SEED_LENGTH, INPUT_SIZE, BATCH_SIZE)\n",
        "\n",
        "sample_generator = lambda model, seed: recurrent_generate(\n",
        "    model, seed, GENERATED_SEQ_LENGTH, WINDOW_SIZE, is_binary=False)\n",
        "\n",
        "sparse_sample_generator = lambda model, seed: pipe(\n",
        "    sample_generator(model, seed),\n",
        "    lambda batch_of_samples: [np2sparse(sample, wv)[0] for sample in batch_of_samples]\n",
        ")\n",
        "\n",
        "print(f'generating sequences of {GENERATED_SEQ_LENGTH} using {METHOD}')\n",
        "\n",
        "gen_callback = GeneratingAndPlottingCallback(model, sparse_sample_generator, seed_generator)"
      ],
      "execution_count": 26,
      "outputs": [
        {
          "output_type": "stream",
          "text": [
            "saving checkpoints and logs to /content/drive/My Drive/artificial-music/pretrained_models/lstm/embedded_16_128\n",
            "generating sequences of 400 using random_noise_seed\n"
          ],
          "name": "stdout"
        }
      ]
    },
    {
      "cell_type": "markdown",
      "metadata": {
        "id": "ddA-5uKM0xeB",
        "colab_type": "text"
      },
      "source": [
        "#### training"
      ]
    },
    {
      "cell_type": "code",
      "metadata": {
        "id": "wIePouhs0xeC",
        "colab_type": "code",
        "colab": {}
      },
      "source": [
        "# pre training code\n",
        "from time import time\n",
        "epochs_elapsed = 0\n",
        "minutes_elapsed = 0\n",
        "\n",
        "data_gen = dataset_gen(vectorized_tracks, WINDOW_SIZE, BATCH_SIZE)\n",
        "test_gen = dataset_gen(vectorized_tracks, WINDOW_SIZE, BATCH_SIZE)"
      ],
      "execution_count": 0,
      "outputs": []
    },
    {
      "cell_type": "code",
      "metadata": {
        "id": "SGnWxfgy0xeE",
        "colab_type": "code",
        "colab": {
          "base_uri": "https://localhost:8080/",
          "height": 851
        },
        "outputId": "22ffc232-122f-484f-ed79-c96b4aad0b2e"
      },
      "source": [
        "EPOCHS = 1\n",
        "STEPS_PER_EPOCH = 100\n",
        "TEST_STEPS = 1\n",
        "\n",
        "start_time = time()\n",
        "model.fit_generator(\n",
        "    data_gen,\n",
        "    steps_per_epoch=STEPS_PER_EPOCH,\n",
        "    epochs=EPOCHS,\n",
        "    validation_data=test_gen,\n",
        "    validation_steps=TEST_STEPS,\n",
        "    callbacks=[log_callback, gen_callback]\n",
        ")\n",
        "\n",
        "minutes_elapsed += (time() - start_time) // 60\n",
        "epochs_elapsed += EPOCHS"
      ],
      "execution_count": 28,
      "outputs": [
        {
          "output_type": "stream",
          "text": [
            "WARNING:tensorflow:From /usr/local/lib/python3.6/dist-packages/tensorflow/python/ops/math_grad.py:1250: add_dispatch_support.<locals>.wrapper (from tensorflow.python.ops.array_ops) is deprecated and will be removed in a future version.\n",
            "Instructions for updating:\n",
            "Use tf.where in 2.0, which has the same broadcast rule as np.where\n",
            " 99/100 [============================>.] - ETA: 0s - loss: 12.8338 - mean_squared_error: 12.8338"
          ],
          "name": "stdout"
        },
        {
          "output_type": "stream",
          "text": [
            "/usr/local/lib/python3.6/dist-packages/gensim/matutils.py:737: FutureWarning: Conversion of the second argument of issubdtype from `int` to `np.signedinteger` is deprecated. In future, it will be treated as `np.int64 == np.dtype(int).type`.\n",
            "  if np.issubdtype(vec.dtype, np.int):\n"
          ],
          "name": "stderr"
        },
        {
          "output_type": "display_data",
          "data": {
            "image/png": "[encoded data removed]",
            "text/plain": [
              "<Figure size 2160x720 with 16 Axes>"
            ]
          },
          "metadata": {
            "tags": []
          }
        },
        {
          "output_type": "stream",
          "text": [
            "\b\b\b\b\b\b\b\b\b\b\b\b\b\b\b\b\b\b\b\b\b\b\b\b\b\b\b\b\b\b\b\b\b\b\b\b\b\b\b\b\b\b\b\b\b\b\b\b\b\b\b\b\b\b\b\b\b\b\b\b\b\b\b\b\b\b\b\b\b\b\b\b\b\b\b\b\b\b\b\b\b\b\b\b\b\b\b\b\b\b\b\b\b\b\b\b\r100/100 [==============================] - 26s 261ms/step - loss: 12.7997 - mean_squared_error: 12.7997 - val_loss: 9.6423 - val_mean_squared_error: 9.6423\n"
          ],
          "name": "stdout"
        }
      ]
    }
  ]
}