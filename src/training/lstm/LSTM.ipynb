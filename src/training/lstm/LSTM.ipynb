{
 "cells": [
  {
   "cell_type": "markdown",
   "metadata": {},
   "source": [
    "## importing dataset, splitting tracks"
   ]
  },
  {
   "cell_type": "code",
   "execution_count": 4,
   "metadata": {},
   "outputs": [
    {
     "data": {
      "text/plain": [
       "array(['D#3,C4', 'D#3,C4', 'D#3,C4', ..., '<UNKNOWN>', '<UNKNOWN>',\n",
       "       '<TRACK_END>'], dtype='<U27')"
      ]
     },
     "execution_count": 4,
     "metadata": {},
     "output_type": "execute_result"
    }
   ],
   "source": [
    "import os\n",
    "import sys\n",
    "import numpy as np\n",
    "\n",
    "base_path = '../../../'\n",
    "sys.path.append(os.path.join(os.getcwd(), base_path))\n",
    "\n",
    "dataset_path = 'datasets/numpy/pokemon100ms_no_vel_transposed/meta/'\n",
    "dataset_file = '_dicted_dataset_ignore_ratio=0.1.npy'\n",
    "word_vectors_file = '_word_vectors_1000_ignore_ratio=0.1.wv'\n",
    "\n",
    "track_path = os.path.join(base_path, dataset_path, dataset_file)\n",
    "word_vectors_path = os.path.join(base_path, dataset_path, word_vectors_file)\n",
    "\n",
    "track = np.load(track_path)\n",
    "\n",
    "track"
   ]
  },
  {
   "cell_type": "code",
   "execution_count": 17,
   "metadata": {},
   "outputs": [],
   "source": [
    "from src.data_processing.embedding_sparse_notes.common import TRACK_END, UNKNOWN_FRAME\n",
    "\n",
    "track_split_points = np.where(track == TRACK_END)[0]\n",
    "\n",
    "# + 1, so split happens after <TRACK_END>, [:-1] to skip last, empty partition\n",
    "tracks = [t.tolist() for t in np.split(track, track_split_points + 1)][:-1]\n",
    "# tracks is now a list of lists of frames"
   ]
  },
  {
   "cell_type": "markdown",
   "metadata": {},
   "source": [
    "## loading embedding + encoding dataset"
   ]
  },
  {
   "cell_type": "code",
   "execution_count": 22,
   "metadata": {},
   "outputs": [
    {
     "name": "stdout",
     "output_type": "stream",
     "text": [
      "(2197, 16), (2197, 16), (1920, 16), (361, 16) , (552, 16) , (1008, 16), (533, 16) , (552, 16) , (552, 16) , (533, 16) , (1008, 16), (361, 16) , (2197, 16), (2197, 16), (2197, 16), (361, 16) , (1920, 16), (552, 16) , (1008, 16), (552, 16) , (717, 16) , (717, 16) , (552, 16) , (1008, 16), (552, 16) , (1920, 16), (361, 16) , (2197, 16), (2197, 16), (1920, 16), (552, 16) , (1622, 16), (717, 16) , (386, 16) , (1008, 16), (1622, 16), (552, 16) , (552, 16) , (1622, 16), (1008, 16), (386, 16) , (717, 16) , (552, 16) , (1622, 16), (1920, 16), (361, 16) , (2197, 16), (2197, 16), (1920, 16), (361, 16) , (552, 16) , (717, 16) , (1008, 16), (386, 16) , (552, 16) , (1008, 16), (1008, 16), (552, 16) , (386, 16) , (1008, 16), (1622, 16), (552, 16) , (361, 16) , (1920, 16), (2197, 16), (717, 16) , (361, 16) , (2197, 16), (1008, 16), (533, 16) , (533, 16) , (386, 16) , (386, 16) , (533, 16) , (533, 16) , (361, 16) , (2197, 16), (1008, 16), (361, 16) , (717, 16) , (717, 16) , (1622, 16), (2197, 16), (1920, 16), (533, 16) , (361, 16) , (533, 16) , (533, 16) , (361, 16) , (1920, 16), (2197, 16), (1622, 16), (717, 16) , (717, 16) , (2197, 16), (361, 16) , (717, 16) , (1008, 16), (533, 16) , (361, 16) , (361, 16) , (533, 16) , (717, 16) , (1920, 16), (361, 16) , (2197, 16), (717, 16) , (717, 16) , (361, 16) , (1622, 16), (2197, 16), (1920, 16), (1008, 16), (533, 16) , (533, 16) , (361, 16) , (361, 16) , (533, 16) , (533, 16) , (1008, 16), (361, 16) , (1920, 16), (2197, 16), (1622, 16), (361, 16) , (717, 16) , (361, 16) , (1622, 16), (1008, 16), (361, 16) , (1920, 16), (361, 16) , (361, 16) , (1920, 16), (361, 16) , (1622, 16), (361, 16) , (717, 16) , (361, 16) , (361, 16) , (2197, 16), (1622, 16), (1008, 16), (361, 16) , (1920, 16), (1920, 16), (361, 16) , (1008, 16), (1622, 16), (2197, 16), (361, 16) , (361, 16) , (717, 16) , (361, 16) , (1622, 16), (361, 16) , (1008, 16), (2197, 16), (1920, 16), (1920, 16), (1008, 16), (2197, 16), (361, 16) , (1622, 16), (361, 16) , (1920, 16), (361, 16) , (552, 16) , (1622, 16), (361, 16) , (1008, 16), (1920, 16), (533, 16) , (533, 16) , (1920, 16), (1008, 16), (361, 16) , (1622, 16), (552, 16) , (361, 16) , (1920, 16), (1920, 16), (1622, 16), (552, 16) , (386, 16) , (1008, 16), (386, 16) , (386, 16) , (717, 16) , (717, 16) , (533, 16) , (386, 16) , (386, 16) , (552, 16) , (1008, 16), (386, 16) , (1622, 16), (552, 16) , (1920, 16), (1622, 16), (386, 16) , (552, 16) , (386, 16) , (386, 16) , (533, 16) , (717, 16) , (533, 16) , (386, 16) , (552, 16) , (386, 16) , (1622, 16), (2197, 16), (361, 16) , (1622, 16), (386, 16) , (361, 16) , (386, 16) , (533, 16) , (717, 16) , (717, 16) , (533, 16) , (386, 16) , (386, 16) , (361, 16) , (2197, 16), (1622, 16), (386, 16) , (361, 16) , (533, 16) , (361, 16) , (552, 16) , (717, 16) , (717, 16) , (552, 16) , (361, 16) , (533, 16) , (386, 16) , (361, 16) , (386, 16) , (1622, 16), "
     ]
    }
   ],
   "source": [
    "from gensim.models import KeyedVectors\n",
    "\n",
    "wv = KeyedVectors.load(word_vectors_path, mmap='r')\n",
    "\n",
    "def vectorize_frame(frame):\n",
    "    return wv[frame] if frame in wv else wv[UNKNOWN_FRAME]\n",
    "\n",
    "vectorized_tracks = [np.array([vectorize_frame(f) for f in t]) for t in tracks]\n",
    "for v in vectorized_tracks: print(v.shape, end=', ')"
   ]
  },
  {
   "cell_type": "code",
   "execution_count": 82,
   "metadata": {},
   "outputs": [
    {
     "name": "stdout",
     "output_type": "stream",
     "text": [
      "(50, 16)\n",
      "(50, 16)\n",
      "(50, 16)\n",
      "(50, 16)\n",
      "(50, 16)\n"
     ]
    },
    {
     "data": {
      "text/plain": [
       "((5, 50, 16), (5, 50, 16))"
      ]
     },
     "execution_count": 82,
     "metadata": {},
     "output_type": "execute_result"
    }
   ],
   "source": [
    "def dataset_gen(tracks, window_size, batch_size):\n",
    "    \"\"\"\n",
    "    tracks - list of np.arrays of shape (track_length, frame_size)\n",
    "    window_size - length of generated batch\n",
    "    batch_size - number of sequences in batch\n",
    "    \"\"\"\n",
    "    while True:\n",
    "        # select #batch_size tracks\n",
    "        selected_track_indicies = [np.random.randint(0, len(tracks)) for _ in range(batch_size)]\n",
    "        # select sequence starting point for each track\n",
    "        sequence_indicies = [np.random.randint(0, len(tracks[sti]) - window_size - 2)\n",
    "                             for sti in selected_track_indicies]\n",
    "        \n",
    "        \n",
    "        # create slices for x and y\n",
    "        x_slice = lambda seqi: np.s_[seqi:seqi + window_size]\n",
    "        y_slice = lambda seqi: np.s_[seqi + 1:seqi + window_size + 1]\n",
    "        \n",
    "        x = [tracks[sti][x_slice(seqi)] for sti, seqi in zip(selected_track_indicies, sequence_indicies)]\n",
    "        y = [tracks[sti][y_slice(seqi)] for sti, seqi in zip(selected_track_indicies, sequence_indicies)]\n",
    "\n",
    "        yield np.stack(x), np.stack(y)\n",
    "        \n",
    "x, y = next(dataset_gen(vectorized_tracks, 50, 5))\n",
    "x.shape, y.shape"
   ]
  },
  {
   "cell_type": "markdown",
   "metadata": {},
   "source": [
    "## Setting up model"
   ]
  },
  {
   "cell_type": "code",
   "execution_count": 86,
   "metadata": {},
   "outputs": [],
   "source": [
    "from tensorflow import keras as K\n",
    "\n",
    "INPUT_SIZE = 16\n",
    "HIDDEN_SIZE = 128\n",
    "OUTPUT_SIZE = INPUT_SIZE\n",
    "\n",
    "BATCH_SIZE = 16\n",
    "WINDOW_SIZE = 100\n",
    "\n",
    "INPUT_SHAPE = (None, INPUT_SIZE)\n",
    "# None allows for variable seq_length between batches"
   ]
  },
  {
   "cell_type": "code",
   "execution_count": 87,
   "metadata": {},
   "outputs": [],
   "source": [
    "model = K.models.Sequential([\n",
    "    K.layers.LSTM(\n",
    "        HIDDEN_SIZE,\n",
    "        input_shape=INPUT_SHAPE,\n",
    "        return_sequences=True,\n",
    "    ),\n",
    "    K.layers.Dense(\n",
    "        OUTPUT_SIZE,\n",
    "        activation='sigmoid',\n",
    "    ),\n",
    "])"
   ]
  },
  {
   "cell_type": "code",
   "execution_count": 88,
   "metadata": {},
   "outputs": [],
   "source": [
    "from src.training.common.training_callbacks import ModelAndLogSavingCallback\n",
    "\n",
    "logging_path = 'pretrained_models/lstm'\n",
    "experiment_name = f'embedded_{INPUT_SIZE}_{HIDDEN_SIZE}'\n",
    "experiment_path = os.path.join(base_path, logging_path, experiment_name)\n",
    "os.makedirs(experiment_path, exist_ok=True)\n",
    "\n",
    "model.compile(\n",
    "    loss='mean_squared_error',\n",
    "    optimizer=K.optimizers.Adam(), \n",
    "    metrics=[\"mean_squared_error\"],\n",
    "    callbacks=[ModelAndLogSavingCallback(model, experiment_path)]\n",
    ")"
   ]
  },
  {
   "cell_type": "code",
   "execution_count": 89,
   "metadata": {},
   "outputs": [],
   "source": [
    "# pre training code\n",
    "from time import time\n",
    "epochs_elapsed = 0\n",
    "minutes_elapsed = 0\n",
    "\n",
    "data_gen = dataset_gen(vectorized_tracks, WINDOW_SIZE, BATCH_SIZE)\n",
    "test_gen = dataset_gen(vectorized_tracks, WINDOW_SIZE, BATCH_SIZE)"
   ]
  },
  {
   "cell_type": "code",
   "execution_count": null,
   "metadata": {},
   "outputs": [],
   "source": [
    "EPOCHS = 1\n",
    "STEPS_PER_EPOCH = 1000\n",
    "TEST_STEPS = 100\n",
    "\n",
    "start_time = time()\n",
    "model.fit_generator(\n",
    "    data_gen,\n",
    "    steps_per_epoch=STEPS_PER_EPOCH,\n",
    "    epochs=EPOCHS,\n",
    "    validation_data=test_gen,\n",
    "    validation_steps=TEST_STEPS\n",
    ")\n",
    "\n",
    "minutes_elapsed += (time() - start_time) // 60\n",
    "epochs_elapsed += EPOCHS"
   ]
  },
  {
   "cell_type": "code",
   "execution_count": null,
   "metadata": {},
   "outputs": [],
   "source": []
  }
 ],
 "metadata": {
  "kernelspec": {
   "display_name": "Python 3",
   "language": "python",
   "name": "python3"
  },
  "language_info": {
   "codemirror_mode": {
    "name": "ipython",
    "version": 3
   },
   "file_extension": ".py",
   "mimetype": "text/x-python",
   "name": "python",
   "nbconvert_exporter": "python",
   "pygments_lexer": "ipython3",
   "version": "3.7.4"
  }
 },
 "nbformat": 4,
 "nbformat_minor": 2
}
