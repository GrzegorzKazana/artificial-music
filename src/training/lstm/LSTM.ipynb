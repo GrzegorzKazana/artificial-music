{
 "cells": [
  {
   "cell_type": "code",
   "execution_count": null,
   "metadata": {
    "colab": {
     "base_uri": "https://localhost:8080/",
     "height": 34
    },
    "colab_type": "code",
    "id": "Zen-OG9k0874",
    "outputId": "ffb4476c-15a9-49f4-f3f8-f062c3c49fec"
   },
   "outputs": [],
   "source": [
    "from google.colab import drive\n",
    "drive.mount('/content/drive')"
   ]
  },
  {
   "cell_type": "code",
   "execution_count": null,
   "metadata": {
    "colab": {},
    "colab_type": "code",
    "id": "EorwXV_E0-HT"
   },
   "outputs": [],
   "source": [
    "%%shell\n",
    "\n",
    "git clone https://github.com/GrzegorzKazana/artificial-music.git"
   ]
  },
  {
   "cell_type": "code",
   "execution_count": null,
   "metadata": {
    "colab": {
     "base_uri": "https://localhost:8080/",
     "height": 34
    },
    "colab_type": "code",
    "id": "Padwl8pQ106a",
    "outputId": "740cfd53-1a50-484d-ace2-01861ab8f08d"
   },
   "outputs": [],
   "source": [
    "!ls drive"
   ]
  },
  {
   "cell_type": "markdown",
   "metadata": {
    "colab_type": "text",
    "id": "KqZZoCTt0xdr"
   },
   "source": [
    "## importing dataset, splitting tracks"
   ]
  },
  {
   "cell_type": "code",
   "execution_count": null,
   "metadata": {
    "colab": {
     "base_uri": "https://localhost:8080/",
     "height": 51
    },
    "colab_type": "code",
    "id": "FagLgusJ0xdt",
    "outputId": "d1ac7bd4-efae-4546-b8f1-8e5332a2d516"
   },
   "outputs": [],
   "source": [
    "import os\n",
    "import sys\n",
    "import numpy as np\n",
    "\n",
    "proj_base_path = '/content/artificial-music'\n",
    "data_base_path = '/content/drive/My Drive/artificial-music/datasets'\n",
    "models_base_path = '/content/drive/My Drive/artificial-music/pretrained_models'\n",
    "sys.path.append(proj_base_path)\n",
    "\n",
    "dataset_path = 'numpy/pokemon100ms_no_vel_transposed/meta/'\n",
    "dataset_file = '_dicted_dataset_ignore_ratio=0.05.npy'\n",
    "word_vectors_file = '_word_vectors_1000_ignore_ratio=0.05.wv'\n",
    "\n",
    "track_path = os.path.join(data_base_path, dataset_path, dataset_file)\n",
    "word_vectors_path = os.path.join(data_base_path, dataset_path, word_vectors_file)\n",
    "\n",
    "track = np.load(track_path)\n",
    "\n",
    "track"
   ]
  },
  {
   "cell_type": "code",
   "execution_count": null,
   "metadata": {
    "colab": {
     "base_uri": "https://localhost:8080/",
     "height": 54
    },
    "colab_type": "code",
    "id": "nCYLYswY0xdw",
    "outputId": "29af093f-6f92-4e67-b5b5-be40dc4371ac"
   },
   "outputs": [],
   "source": [
    "from src.data_processing.embedding_sparse_notes.common import TRACK_END, UNKNOWN_FRAME\n",
    "\n",
    "track_split_points = np.where(track == TRACK_END)[0]\n",
    "\n",
    "# + 1, so split happens after <TRACK_END>, [:-1] to skip last, empty partition\n",
    "tracks = [t.tolist() for t in np.split(track, track_split_points + 1)][:-1]\n",
    "# tracks is now a list of lists of frames"
   ]
  },
  {
   "cell_type": "markdown",
   "metadata": {
    "colab_type": "text",
    "id": "W2I2-YQR0xdy"
   },
   "source": [
    "## loading embedding + encoding dataset"
   ]
  },
  {
   "cell_type": "code",
   "execution_count": null,
   "metadata": {
    "colab": {
     "base_uri": "https://localhost:8080/",
     "height": 88
    },
    "colab_type": "code",
    "id": "2hZZsVdt0xdz",
    "outputId": "39e3098c-893f-44de-826c-3b23ba91c6f2"
   },
   "outputs": [],
   "source": [
    "from gensim.models import KeyedVectors\n",
    "\n",
    "wv = KeyedVectors.load(word_vectors_path, mmap='r')\n",
    "\n",
    "def vectorize_frame(frame):\n",
    "    return wv[frame] if frame in wv else wv[UNKNOWN_FRAME]\n",
    "\n",
    "vectorized_tracks = [np.array([vectorize_frame(f) for f in t]) for t in tracks]\n",
    "for v in vectorized_tracks: print(v.shape, end=', ')"
   ]
  },
  {
   "cell_type": "code",
   "execution_count": null,
   "metadata": {
    "colab": {
     "base_uri": "https://localhost:8080/",
     "height": 34
    },
    "colab_type": "code",
    "id": "b7EXic0A0xd0",
    "outputId": "c0510373-a96e-4a3e-af80-74e8dd6344ba"
   },
   "outputs": [],
   "source": [
    "def dataset_gen(tracks, window_size, batch_size):\n",
    "    \"\"\"\n",
    "    tracks - list of np.arrays of shape (track_length, frame_size)\n",
    "    window_size - length of generated batch\n",
    "    batch_size - number of sequences in batch\n",
    "    \"\"\"\n",
    "    while True:\n",
    "        # select #batch_size tracks\n",
    "        selected_track_indicies = [np.random.randint(0, len(tracks)) for _ in range(batch_size)]\n",
    "        # select sequence starting point for each track\n",
    "        sequence_indicies = [np.random.randint(0, len(tracks[sti]) - window_size - 2)\n",
    "                             for sti in selected_track_indicies]\n",
    "        \n",
    "        \n",
    "        # create slices for x and y\n",
    "        x_slice = lambda seqi: np.s_[seqi:seqi + window_size]\n",
    "        y_slice = lambda seqi: np.s_[seqi + 1:seqi + window_size + 1]\n",
    "        \n",
    "        x = [tracks[sti][x_slice(seqi)] for sti, seqi in zip(selected_track_indicies, sequence_indicies)]\n",
    "        y = [tracks[sti][y_slice(seqi)] for sti, seqi in zip(selected_track_indicies, sequence_indicies)]\n",
    "\n",
    "        yield np.stack(x), np.stack(y)\n",
    "        \n",
    "x, y = next(dataset_gen(vectorized_tracks, 50, 5))\n",
    "x.shape, y.shape"
   ]
  },
  {
   "cell_type": "markdown",
   "metadata": {
    "colab_type": "text",
    "id": "RJoLGPms0xd3"
   },
   "source": [
    "## Setting up model"
   ]
  },
  {
   "cell_type": "code",
   "execution_count": null,
   "metadata": {
    "colab": {},
    "colab_type": "code",
    "id": "HFWDPNrO0xd4"
   },
   "outputs": [],
   "source": [
    "from tensorflow import keras as K\n",
    "\n",
    "INPUT_SIZE = 16\n",
    "HIDDEN_SIZE = 128\n",
    "OUTPUT_SIZE = INPUT_SIZE\n",
    "\n",
    "BATCH_SIZE = 16\n",
    "WINDOW_SIZE = 100\n",
    "\n",
    "INPUT_SHAPE = (None, INPUT_SIZE)\n",
    "# None allows for variable seq_length between batches"
   ]
  },
  {
   "cell_type": "markdown",
   "metadata": {
    "colab_type": "text",
    "id": "3le9AfeC0xd5"
   },
   "source": [
    "#### load existing model"
   ]
  },
  {
   "cell_type": "code",
   "execution_count": null,
   "metadata": {
    "colab": {},
    "colab_type": "code",
    "id": "C_vG_BbL0xd6"
   },
   "outputs": [],
   "source": [
    "# or load saved model\n",
    "model_path = 'heck_512_all/m1559929134.h5'\n",
    "model = K.models.load_model(os.path.join(models_base_path, model_path))"
   ]
  },
  {
   "cell_type": "markdown",
   "metadata": {
    "colab_type": "text",
    "id": "lLuHi5380xd7"
   },
   "source": [
    "#### or create new one"
   ]
  },
  {
   "cell_type": "code",
   "execution_count": null,
   "metadata": {
    "colab": {
     "base_uri": "https://localhost:8080/",
     "height": 88
    },
    "colab_type": "code",
    "id": "12p2Y-6q0xd8",
    "outputId": "c30b35e8-387c-48c7-daa9-22622c98e71d"
   },
   "outputs": [],
   "source": [
    "model = K.models.Sequential([\n",
    "    K.layers.LSTM(\n",
    "        HIDDEN_SIZE,\n",
    "        input_shape=INPUT_SHAPE,\n",
    "        return_sequences=True,\n",
    "    ),\n",
    "    K.layers.Dense(\n",
    "        OUTPUT_SIZE,\n",
    "    ),\n",
    "])"
   ]
  },
  {
   "cell_type": "code",
   "execution_count": null,
   "metadata": {
    "colab": {},
    "colab_type": "code",
    "id": "gleObWwY0xd9"
   },
   "outputs": [],
   "source": [
    "model.compile(\n",
    "    loss='mean_squared_error',\n",
    "    optimizer=K.optimizers.Adam(), \n",
    "    metrics=[\"mean_squared_error\"],\n",
    ")"
   ]
  },
  {
   "cell_type": "markdown",
   "metadata": {
    "colab_type": "text",
    "id": "7nIljKza0xd_"
   },
   "source": [
    "#### define training callbacks"
   ]
  },
  {
   "cell_type": "code",
   "execution_count": null,
   "metadata": {
    "colab": {
     "base_uri": "https://localhost:8080/",
     "height": 51
    },
    "colab_type": "code",
    "id": "768UvZQG0xeA",
    "outputId": "1c5f562b-2ddb-43a6-f23f-671ef8ac6ff7"
   },
   "outputs": [],
   "source": [
    "from src.training.common.training_callbacks import ModelAndLogSavingCallback, GeneratingAndPlottingCallback\n",
    "\n",
    "# logging callback\n",
    "logging_path = 'lstm'\n",
    "experiment_name = f'embedded_{INPUT_SIZE}_{HIDDEN_SIZE}'\n",
    "experiment_path = os.path.join(models_base_path, logging_path, experiment_name)\n",
    "os.makedirs(experiment_path, exist_ok=True)\n",
    "print(f'saving checkpoints and logs to {experiment_path}')\n",
    "\n",
    "# logging disabled for now\n",
    "log_callback = ModelAndLogSavingCallback(model, experiment_path)\n",
    "\n",
    "# generating callback\n",
    "from src.generating.generating import recurrent_generate\n",
    "from src.generating.embedded_generating_seeds import seed_generators\n",
    "from src.data_processing.common.helpers import pipe\n",
    "from src.data_processing.embedding_sparse_notes.reverse_transform import np2sparse\n",
    "\n",
    "SEED_LENGTH = 20\n",
    "GENERATED_SEQ_LENGTH = 400\n",
    "METHOD = 'random_noise_seed'\n",
    "\n",
    "seed_generator = lambda: seed_generators[METHOD](\n",
    "    SEED_LENGTH, INPUT_SIZE, BATCH_SIZE)\n",
    "\n",
    "sample_generator = lambda model, seed: recurrent_generate(\n",
    "    model, seed, GENERATED_SEQ_LENGTH, WINDOW_SIZE, is_binary=False)\n",
    "\n",
    "sparse_sample_generator = lambda model, seed: pipe(\n",
    "    sample_generator(model, seed),\n",
    "    lambda batch_of_samples: [np2sparse(sample, wv)[0] for sample in batch_of_samples]\n",
    ")\n",
    "\n",
    "print(f'generating sequences of {GENERATED_SEQ_LENGTH} using {METHOD}')\n",
    "\n",
    "gen_callback = GeneratingAndPlottingCallback(model, sparse_sample_generator, seed_generator)"
   ]
  },
  {
   "cell_type": "markdown",
   "metadata": {
    "colab_type": "text",
    "id": "ddA-5uKM0xeB"
   },
   "source": [
    "#### training"
   ]
  },
  {
   "cell_type": "code",
   "execution_count": null,
   "metadata": {
    "colab": {},
    "colab_type": "code",
    "id": "wIePouhs0xeC"
   },
   "outputs": [],
   "source": [
    "# pre training code\n",
    "from time import time\n",
    "epochs_elapsed = 0\n",
    "minutes_elapsed = 0\n",
    "\n",
    "data_gen = dataset_gen(vectorized_tracks, WINDOW_SIZE, BATCH_SIZE)\n",
    "test_gen = dataset_gen(vectorized_tracks, WINDOW_SIZE, BATCH_SIZE)"
   ]
  },
  {
   "cell_type": "code",
   "execution_count": null,
   "metadata": {
    "colab": {
     "base_uri": "https://localhost:8080/",
     "height": 851
    },
    "colab_type": "code",
    "id": "SGnWxfgy0xeE",
    "outputId": "22ffc232-122f-484f-ed79-c96b4aad0b2e"
   },
   "outputs": [],
   "source": [
    "EPOCHS = 1\n",
    "STEPS_PER_EPOCH = 100\n",
    "TEST_STEPS = 1\n",
    "\n",
    "start_time = time()\n",
    "model.fit_generator(\n",
    "    data_gen,\n",
    "    steps_per_epoch=STEPS_PER_EPOCH,\n",
    "    epochs=EPOCHS,\n",
    "    validation_data=test_gen,\n",
    "    validation_steps=TEST_STEPS,\n",
    "    callbacks=[log_callback, gen_callback]\n",
    ")\n",
    "\n",
    "minutes_elapsed += (time() - start_time) // 60\n",
    "epochs_elapsed += EPOCHS"
   ]
  }
 ],
 "metadata": {
  "colab": {
   "name": "LSTM.ipynb",
   "provenance": [],
   "toc_visible": true
  },
  "kernelspec": {
   "display_name": "Python 3",
   "language": "python",
   "name": "python3"
  },
  "language_info": {
   "codemirror_mode": {
    "name": "ipython",
    "version": 3
   },
   "file_extension": ".py",
   "mimetype": "text/x-python",
   "name": "python",
   "nbconvert_exporter": "python",
   "pygments_lexer": "ipython3",
   "version": "3.7.4"
  }
 },
 "nbformat": 4,
 "nbformat_minor": 1
}
