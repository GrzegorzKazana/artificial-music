{
 "cells": [
  {
   "cell_type": "code",
   "execution_count": null,
   "metadata": {},
   "outputs": [],
   "source": [
    "import os\n",
    "import sys\n",
    "import numpy as np\n",
    "\n",
    "base_path = '../../../'\n",
    "sys.path.append(os.path.join(os.getcwd(), base_path))\n",
    "\n",
    "datasets = 'datasets/numpy'\n",
    "dataset_meta = 'pokemon_embedded_w_time/just_sparse/meta'\n",
    "dicted_track = '_dicted_dataset_subsequents_removed_ignore_ratio=0.05.npy'\n",
    "\n",
    "track_path = os.path.join(base_path, datasets, dataset_meta, dicted_track)\n",
    "\n",
    "track = np.load(track_path)\n",
    "track"
   ]
  },
  {
   "cell_type": "code",
   "execution_count": null,
   "metadata": {},
   "outputs": [],
   "source": [
    "from src.data_processing.embedding_sparse_notes.common import TRACK_END\n",
    "\n",
    "track_split_points = np.where(track == TRACK_END)[0]\n",
    "\n",
    "# + 1, so split happens after <TRACK_END>\n",
    "tracks = [t.tolist() for t in np.split(track, track_split_points + 1)]\n",
    "tracks"
   ]
  },
  {
   "cell_type": "code",
   "execution_count": null,
   "metadata": {},
   "outputs": [],
   "source": [
    "# https://www.kaggle.com/pierremegret/gensim-word2vec-tutorial\n",
    "from gensim.models import Word2Vec\n",
    "from gensim.models.callbacks import CallbackAny2Vec\n",
    "from src.training.common.training_callbacks import GensimLossPrinter\n",
    "\n",
    "model = Word2Vec(size=16, window=10, workers=3)\n",
    "model.build_vocab(tracks)"
   ]
  },
  {
   "cell_type": "code",
   "execution_count": null,
   "metadata": {},
   "outputs": [],
   "source": [
    "model.train(\n",
    "    tracks, \n",
    "    total_examples=model.corpus_count, \n",
    "    epochs=10000, \n",
    "    compute_loss=True, \n",
    "    callbacks=[GensimLossPrinter()]\n",
    ")"
   ]
  },
  {
   "cell_type": "code",
   "execution_count": null,
   "metadata": {},
   "outputs": [],
   "source": [
    "word_vectors = model.wv\n",
    "\n",
    "output_path = os.path.join(base_path, datasets, dataset_meta, '_word_vectors_1000_ignore_ratio=0.05.wv')\n",
    "\n",
    "word_vectors.save(output_path)\n",
    "print('saved to: ' + os.path.abspath(output_path))"
   ]
  },
  {
   "cell_type": "code",
   "execution_count": null,
   "metadata": {},
   "outputs": [],
   "source": [
    "# https://radimrehurek.com/gensim/models/word2vec.html\n",
    "# loading wordvectors\n",
    "# from gensim.models import KeyedVectors\n",
    "# wv = KeyedVectors.load(\"model.wv\", mmap='r')"
   ]
  }
 ],
 "metadata": {
  "kernelspec": {
   "display_name": "Python 3",
   "language": "python",
   "name": "python3"
  },
  "language_info": {
   "codemirror_mode": {
    "name": "ipython",
    "version": 3
   },
   "file_extension": ".py",
   "mimetype": "text/x-python",
   "name": "python",
   "nbconvert_exporter": "python",
   "pygments_lexer": "ipython3",
   "version": "3.7.4"
  }
 },
 "nbformat": 4,
 "nbformat_minor": 2
}
